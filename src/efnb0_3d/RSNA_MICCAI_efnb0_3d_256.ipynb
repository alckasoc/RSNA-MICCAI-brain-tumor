{
  "nbformat": 4,
  "nbformat_minor": 0,
  "metadata": {
    "accelerator": "GPU",
    "colab": {
      "name": "RSNA_MICCAI_efnb0_3d_256.ipynb",
      "provenance": [],
      "collapsed_sections": [],
      "machine_shape": "hm"
    },
    "kernelspec": {
      "display_name": "Python 3",
      "name": "python3"
    },
    "language_info": {
      "name": "python"
    },
    "widgets": {
      "application/vnd.jupyter.widget-state+json": {
        "046e9be5cb7d4a7b860726f4b19b5049": {
          "model_module": "@jupyter-widgets/controls",
          "model_name": "HBoxModel",
          "model_module_version": "1.5.0",
          "state": {
            "_view_name": "HBoxView",
            "_dom_classes": [],
            "_model_name": "HBoxModel",
            "_view_module": "@jupyter-widgets/controls",
            "_model_module_version": "1.5.0",
            "_view_count": null,
            "_view_module_version": "1.5.0",
            "box_style": "",
            "layout": "IPY_MODEL_aa11adb6cd184d408cbf1aa2447ba6dc",
            "_model_module": "@jupyter-widgets/controls",
            "children": [
              "IPY_MODEL_56df090a91f74c18ae617d74f55160b1",
              "IPY_MODEL_fa7999cc93d84be6a351f57c070be8fa",
              "IPY_MODEL_bf9bf0c756c044cbb44c8dcb629964f0"
            ]
          }
        },
        "aa11adb6cd184d408cbf1aa2447ba6dc": {
          "model_module": "@jupyter-widgets/base",
          "model_name": "LayoutModel",
          "model_module_version": "1.2.0",
          "state": {
            "_view_name": "LayoutView",
            "grid_template_rows": null,
            "right": null,
            "justify_content": null,
            "_view_module": "@jupyter-widgets/base",
            "overflow": null,
            "_model_module_version": "1.2.0",
            "_view_count": null,
            "flex_flow": null,
            "width": null,
            "min_width": null,
            "border": null,
            "align_items": null,
            "bottom": null,
            "_model_module": "@jupyter-widgets/base",
            "top": null,
            "grid_column": null,
            "overflow_y": null,
            "overflow_x": null,
            "grid_auto_flow": null,
            "grid_area": null,
            "grid_template_columns": null,
            "flex": null,
            "_model_name": "LayoutModel",
            "justify_items": null,
            "grid_row": null,
            "max_height": null,
            "align_content": null,
            "visibility": null,
            "align_self": null,
            "height": null,
            "min_height": null,
            "padding": null,
            "grid_auto_rows": null,
            "grid_gap": null,
            "max_width": null,
            "order": null,
            "_view_module_version": "1.2.0",
            "grid_template_areas": null,
            "object_position": null,
            "object_fit": null,
            "grid_auto_columns": null,
            "margin": null,
            "display": null,
            "left": null
          }
        },
        "56df090a91f74c18ae617d74f55160b1": {
          "model_module": "@jupyter-widgets/controls",
          "model_name": "HTMLModel",
          "model_module_version": "1.5.0",
          "state": {
            "_view_name": "HTMLView",
            "style": "IPY_MODEL_819cec7df8534ba0bc4d76fa9c779081",
            "_dom_classes": [],
            "description": "",
            "_model_name": "HTMLModel",
            "placeholder": "​",
            "_view_module": "@jupyter-widgets/controls",
            "_model_module_version": "1.5.0",
            "value": "current_loss: 0.87810 | LR: 0.00010:   6%",
            "_view_count": null,
            "_view_module_version": "1.5.0",
            "description_tooltip": null,
            "_model_module": "@jupyter-widgets/controls",
            "layout": "IPY_MODEL_6fecc4d276c7495bb31a2f259022f356"
          }
        },
        "fa7999cc93d84be6a351f57c070be8fa": {
          "model_module": "@jupyter-widgets/controls",
          "model_name": "FloatProgressModel",
          "model_module_version": "1.5.0",
          "state": {
            "_view_name": "ProgressView",
            "style": "IPY_MODEL_a52592f9e59942019ae8eda9c770bf1b",
            "_dom_classes": [],
            "description": "",
            "_model_name": "FloatProgressModel",
            "bar_style": "",
            "max": 50,
            "_view_module": "@jupyter-widgets/controls",
            "_model_module_version": "1.5.0",
            "value": 3,
            "_view_count": null,
            "_view_module_version": "1.5.0",
            "orientation": "horizontal",
            "min": 0,
            "description_tooltip": null,
            "_model_module": "@jupyter-widgets/controls",
            "layout": "IPY_MODEL_778eb4bcfc214871a9fe8f336220def1"
          }
        },
        "bf9bf0c756c044cbb44c8dcb629964f0": {
          "model_module": "@jupyter-widgets/controls",
          "model_name": "HTMLModel",
          "model_module_version": "1.5.0",
          "state": {
            "_view_name": "HTMLView",
            "style": "IPY_MODEL_ff38b724e64d4bbb97f59b6723ea1dbd",
            "_dom_classes": [],
            "description": "",
            "_model_name": "HTMLModel",
            "placeholder": "​",
            "_view_module": "@jupyter-widgets/controls",
            "_model_module_version": "1.5.0",
            "value": " 3/50 [02:41&lt;42:36, 54.39s/it, loss=0.728]",
            "_view_count": null,
            "_view_module_version": "1.5.0",
            "description_tooltip": null,
            "_model_module": "@jupyter-widgets/controls",
            "layout": "IPY_MODEL_a9a376de45664738a0d919b4ebf24471"
          }
        },
        "819cec7df8534ba0bc4d76fa9c779081": {
          "model_module": "@jupyter-widgets/controls",
          "model_name": "DescriptionStyleModel",
          "model_module_version": "1.5.0",
          "state": {
            "_view_name": "StyleView",
            "_model_name": "DescriptionStyleModel",
            "description_width": "",
            "_view_module": "@jupyter-widgets/base",
            "_model_module_version": "1.5.0",
            "_view_count": null,
            "_view_module_version": "1.2.0",
            "_model_module": "@jupyter-widgets/controls"
          }
        },
        "6fecc4d276c7495bb31a2f259022f356": {
          "model_module": "@jupyter-widgets/base",
          "model_name": "LayoutModel",
          "model_module_version": "1.2.0",
          "state": {
            "_view_name": "LayoutView",
            "grid_template_rows": null,
            "right": null,
            "justify_content": null,
            "_view_module": "@jupyter-widgets/base",
            "overflow": null,
            "_model_module_version": "1.2.0",
            "_view_count": null,
            "flex_flow": null,
            "width": null,
            "min_width": null,
            "border": null,
            "align_items": null,
            "bottom": null,
            "_model_module": "@jupyter-widgets/base",
            "top": null,
            "grid_column": null,
            "overflow_y": null,
            "overflow_x": null,
            "grid_auto_flow": null,
            "grid_area": null,
            "grid_template_columns": null,
            "flex": null,
            "_model_name": "LayoutModel",
            "justify_items": null,
            "grid_row": null,
            "max_height": null,
            "align_content": null,
            "visibility": null,
            "align_self": null,
            "height": null,
            "min_height": null,
            "padding": null,
            "grid_auto_rows": null,
            "grid_gap": null,
            "max_width": null,
            "order": null,
            "_view_module_version": "1.2.0",
            "grid_template_areas": null,
            "object_position": null,
            "object_fit": null,
            "grid_auto_columns": null,
            "margin": null,
            "display": null,
            "left": null
          }
        },
        "a52592f9e59942019ae8eda9c770bf1b": {
          "model_module": "@jupyter-widgets/controls",
          "model_name": "ProgressStyleModel",
          "model_module_version": "1.5.0",
          "state": {
            "_view_name": "StyleView",
            "_model_name": "ProgressStyleModel",
            "description_width": "",
            "_view_module": "@jupyter-widgets/base",
            "_model_module_version": "1.5.0",
            "_view_count": null,
            "_view_module_version": "1.2.0",
            "bar_color": null,
            "_model_module": "@jupyter-widgets/controls"
          }
        },
        "778eb4bcfc214871a9fe8f336220def1": {
          "model_module": "@jupyter-widgets/base",
          "model_name": "LayoutModel",
          "model_module_version": "1.2.0",
          "state": {
            "_view_name": "LayoutView",
            "grid_template_rows": null,
            "right": null,
            "justify_content": null,
            "_view_module": "@jupyter-widgets/base",
            "overflow": null,
            "_model_module_version": "1.2.0",
            "_view_count": null,
            "flex_flow": null,
            "width": null,
            "min_width": null,
            "border": null,
            "align_items": null,
            "bottom": null,
            "_model_module": "@jupyter-widgets/base",
            "top": null,
            "grid_column": null,
            "overflow_y": null,
            "overflow_x": null,
            "grid_auto_flow": null,
            "grid_area": null,
            "grid_template_columns": null,
            "flex": null,
            "_model_name": "LayoutModel",
            "justify_items": null,
            "grid_row": null,
            "max_height": null,
            "align_content": null,
            "visibility": null,
            "align_self": null,
            "height": null,
            "min_height": null,
            "padding": null,
            "grid_auto_rows": null,
            "grid_gap": null,
            "max_width": null,
            "order": null,
            "_view_module_version": "1.2.0",
            "grid_template_areas": null,
            "object_position": null,
            "object_fit": null,
            "grid_auto_columns": null,
            "margin": null,
            "display": null,
            "left": null
          }
        },
        "ff38b724e64d4bbb97f59b6723ea1dbd": {
          "model_module": "@jupyter-widgets/controls",
          "model_name": "DescriptionStyleModel",
          "model_module_version": "1.5.0",
          "state": {
            "_view_name": "StyleView",
            "_model_name": "DescriptionStyleModel",
            "description_width": "",
            "_view_module": "@jupyter-widgets/base",
            "_model_module_version": "1.5.0",
            "_view_count": null,
            "_view_module_version": "1.2.0",
            "_model_module": "@jupyter-widgets/controls"
          }
        },
        "a9a376de45664738a0d919b4ebf24471": {
          "model_module": "@jupyter-widgets/base",
          "model_name": "LayoutModel",
          "model_module_version": "1.2.0",
          "state": {
            "_view_name": "LayoutView",
            "grid_template_rows": null,
            "right": null,
            "justify_content": null,
            "_view_module": "@jupyter-widgets/base",
            "overflow": null,
            "_model_module_version": "1.2.0",
            "_view_count": null,
            "flex_flow": null,
            "width": null,
            "min_width": null,
            "border": null,
            "align_items": null,
            "bottom": null,
            "_model_module": "@jupyter-widgets/base",
            "top": null,
            "grid_column": null,
            "overflow_y": null,
            "overflow_x": null,
            "grid_auto_flow": null,
            "grid_area": null,
            "grid_template_columns": null,
            "flex": null,
            "_model_name": "LayoutModel",
            "justify_items": null,
            "grid_row": null,
            "max_height": null,
            "align_content": null,
            "visibility": null,
            "align_self": null,
            "height": null,
            "min_height": null,
            "padding": null,
            "grid_auto_rows": null,
            "grid_gap": null,
            "max_width": null,
            "order": null,
            "_view_module_version": "1.2.0",
            "grid_template_areas": null,
            "object_position": null,
            "object_fit": null,
            "grid_auto_columns": null,
            "margin": null,
            "display": null,
            "left": null
          }
        }
      }
    }
  },
  "cells": [
    {
      "cell_type": "markdown",
      "metadata": {
        "id": "hvnRRkW3Y4cE"
      },
      "source": [
        "# Setup"
      ]
    },
    {
      "cell_type": "code",
      "metadata": {
        "colab": {
          "resources": {
            "http://localhost:8080/nbextensions/google.colab/files.js": {
              "data": "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",
              "ok": true,
              "headers": [
                [
                  "content-type",
                  "application/javascript"
                ]
              ],
              "status": 200,
              "status_text": ""
            }
          },
          "base_uri": "https://localhost:8080/",
          "height": 174
        },
        "id": "qA2awuRuWGsV",
        "outputId": "e3e8c01b-db9d-4574-fd24-c77d96ed5eed"
      },
      "source": [
        "remote = False\n",
        "\n",
        "from google.colab import files\n",
        "files.upload()  # Upload your kaggle.json here.\n",
        "\n",
        "from google.colab import drive\n",
        "drive.mount('/content/gdrive')\n",
        "\n",
        "# In the scenario where we work away from laptop.\n",
        "import shutil\n",
        "gdrive_kggle_json_path = r\"/content/gdrive/MyDrive/Kaggle Competitions/kaggle.json\"\n",
        "if remote:\n",
        "  shutil.copy(gdrive_kggle_json_path, \".\")\n",
        "\n",
        "!pip install -q kaggle\n",
        "!mkdir -p ~/.kaggle\n",
        "!cp kaggle.json ~/.kaggle/\n",
        "!chmod 600 /root/.kaggle/kaggle.json\n",
        "\n",
        "# !mkdir kaggle/\n",
        "# %cd kaggle/\n",
        "# !mkdir input/\n",
        "# !mkdir output/\n",
        "# %cd input/\n",
        "\n",
        "!mkdir rsna-miccai-processed\n",
        "%cd rsna-miccai-processed/\n",
        "!kaggle datasets download -d sreevishnudamodaran/rsna-processed-voxels-64x256x256-clahe\n",
        "!unzip -q rsna-processed-voxels-64x256x256-clahe.zip\n",
        "!rm rsna-processed-voxels-64x256x256-clahe.zip\n",
        "%cd ../\n",
        "\n",
        "# %cd output/"
      ],
      "execution_count": 2,
      "outputs": [
        {
          "output_type": "display_data",
          "data": {
            "text/html": [
              "\n",
              "     <input type=\"file\" id=\"files-5c5c8095-fe85-499d-94b9-89b70e9d4aa1\" name=\"files[]\" multiple disabled\n",
              "        style=\"border:none\" />\n",
              "     <output id=\"result-5c5c8095-fe85-499d-94b9-89b70e9d4aa1\">\n",
              "      Upload widget is only available when the cell has been executed in the\n",
              "      current browser session. Please rerun this cell to enable.\n",
              "      </output>\n",
              "      <script src=\"/nbextensions/google.colab/files.js\"></script> "
            ],
            "text/plain": [
              "<IPython.core.display.HTML object>"
            ]
          },
          "metadata": {}
        },
        {
          "output_type": "stream",
          "name": "stdout",
          "text": [
            "Saving kaggle.json to kaggle.json\n",
            "Mounted at /content/gdrive\n",
            "/content/rsna-miccai-processed\n",
            "Downloading rsna-processed-voxels-64x256x256-clahe.zip to /content/rsna-miccai-processed\n",
            "100% 3.49G/3.50G [00:28<00:00, 102MB/s]\n",
            "100% 3.50G/3.50G [00:28<00:00, 134MB/s]\n",
            "/content\n"
          ]
        }
      ]
    },
    {
      "cell_type": "code",
      "metadata": {
        "colab": {
          "base_uri": "https://localhost:8080/"
        },
        "id": "ho673jNBY67Q",
        "outputId": "cbc7fbfa-db86-459f-93f2-ef8ac14365a6"
      },
      "source": [
        "!pip install albumentations --upgrade -q\n",
        "!pip install pydicom -q\n",
        "!pip install timm -q\n",
        "!pip install torch --upgrade -q\n",
        "!pip install torchio -q\n",
        "!pip install tensorflow_addons -q\n",
        "!pip install keras_applications -q\n",
        "!pip install efficientnet-3D -q\n",
        "!pip install git+https://github.com/shijianjian/EfficientNet-PyTorch-3D -q\n",
        "!pip install classification-models-3D -q\n",
        "!pip install volumentations-3D -q\n",
        "!pip install --upgrade https://github.com/VincentStimper/mclahe/archive/numpy.zip -q"
      ],
      "execution_count": 3,
      "outputs": [
        {
          "output_type": "stream",
          "name": "stdout",
          "text": [
            "\u001b[K     |████████████████████████████████| 98 kB 3.9 MB/s \n",
            "\u001b[K     |████████████████████████████████| 37.1 MB 87 kB/s \n",
            "\u001b[K     |████████████████████████████████| 2.0 MB 5.1 MB/s \n",
            "\u001b[K     |████████████████████████████████| 376 kB 5.0 MB/s \n",
            "\u001b[K     |████████████████████████████████| 831.4 MB 5.2 kB/s \n",
            "\u001b[31mERROR: pip's dependency resolver does not currently take into account all the packages that are installed. This behaviour is the source of the following dependency conflicts.\n",
            "torchvision 0.10.0+cu102 requires torch==1.9.0, but you have torch 1.9.1 which is incompatible.\n",
            "torchtext 0.10.0 requires torch==1.9.0, but you have torch 1.9.1 which is incompatible.\u001b[0m\n",
            "\u001b[K     |████████████████████████████████| 156 kB 5.2 MB/s \n",
            "\u001b[K     |████████████████████████████████| 48.4 MB 8.6 kB/s \n",
            "\u001b[K     |████████████████████████████████| 1.1 MB 5.3 MB/s \n",
            "\u001b[K     |████████████████████████████████| 50 kB 2.8 MB/s \n",
            "\u001b[?25h  Building wheel for efficientnet-pytorch-3d (setup.py) ... \u001b[?25l\u001b[?25hdone\n",
            "\u001b[K     |████████████████████████████████| 45 kB 2.4 MB/s \n",
            "\u001b[K     | 7.5 MB 1.9 MB/s\n",
            "\u001b[?25h  Building wheel for mclahe (setup.py) ... \u001b[?25l\u001b[?25hdone\n"
          ]
        }
      ]
    },
    {
      "cell_type": "code",
      "metadata": {
        "id": "DYwjjYtXZ5Ii"
      },
      "source": [
        "# General imports.\n",
        "import gc\n",
        "import re\n",
        "import sys\n",
        "import PIL\n",
        "import yaml\n",
        "import math\n",
        "import random\n",
        "import pydicom\n",
        "import platform\n",
        "import shutil, os\n",
        "\n",
        "import numpy as np\n",
        "import pandas as pd\n",
        "import seaborn as sns\n",
        "import matplotlib as mpl\n",
        "import matplotlib.pyplot as plt\n",
        "import albumentations as A\n",
        "import volumentations as V\n",
        "import mclahe as mc\n",
        "import sklearn\n",
        "import cv2\n",
        "import timm\n",
        "import torch\n",
        "import torch.nn as nn\n",
        "import torch.nn.functional as F\n",
        "import torchio as tio\n",
        "import tensorflow as tf\n",
        "\n",
        "# Specific imports. \n",
        "from math import ceil\n",
        "from glob import glob\n",
        "from PIL import Image\n",
        "from IPython.display import Image, clear_output\n",
        "from pydicom.pixel_data_handlers.util import apply_voi_lut\n",
        "\n",
        "from tqdm.notebook import tqdm\n",
        "from matplotlib import animation, rc\n",
        "rc('animation', html='jshtml')\n",
        "from albumentations.pytorch import ToTensorV2\n",
        "from sklearn.metrics import roc_auc_score\n",
        "from sklearn.metrics import accuracy_score\n",
        "from sklearn.model_selection import train_test_split\n",
        "from sklearn.model_selection import StratifiedKFold\n",
        "from sklearn.model_selection import StratifiedShuffleSplit\n",
        "from sklearn.model_selection import GroupKFold\n",
        "from tensorflow import keras\n",
        "import tensorflow_addons as tfa\n",
        "import tensorflow.experimental.numpy as tnp\n",
        "from efficientnet_3D import keras as efn  # TF.keras.\n",
        "from efficientnet_pytorch_3d import EfficientNet3D  # Pytorch.\n",
        "from torch.cuda.amp import GradScaler, autocast\n",
        "from torch.utils.data import Dataset, DataLoader\n",
        "from torch.utils.data.sampler import SequentialSampler, RandomSampler\n",
        "from torchsummary import summary\n",
        "from torchvision import transforms\n",
        "\n",
        "import warnings\n",
        "warnings.simplefilter('ignore')"
      ],
      "execution_count": 4,
      "outputs": []
    },
    {
      "cell_type": "code",
      "metadata": {
        "colab": {
          "base_uri": "https://localhost:8080/",
          "height": 218
        },
        "id": "IGGlAjW6aqga",
        "outputId": "384b31e5-29d8-4388-9b10-6dc79bdc2cfd"
      },
      "source": [
        "!pip install wandb -qqq\n",
        "import wandb\n",
        "# from wandb.keras import WandbCallback\n",
        "wandb.login()"
      ],
      "execution_count": 5,
      "outputs": [
        {
          "output_type": "stream",
          "name": "stdout",
          "text": [
            "\u001b[K     |████████████████████████████████| 1.7 MB 5.2 MB/s \n",
            "\u001b[K     |████████████████████████████████| 97 kB 5.8 MB/s \n",
            "\u001b[K     |████████████████████████████████| 139 kB 45.7 MB/s \n",
            "\u001b[K     |████████████████████████████████| 180 kB 48.4 MB/s \n",
            "\u001b[K     |████████████████████████████████| 63 kB 1.5 MB/s \n",
            "\u001b[?25h  Building wheel for subprocess32 (setup.py) ... \u001b[?25l\u001b[?25hdone\n",
            "  Building wheel for pathtools (setup.py) ... \u001b[?25l\u001b[?25hdone\n"
          ]
        },
        {
          "output_type": "display_data",
          "data": {
            "application/javascript": [
              "\n",
              "        window._wandbApiKey = new Promise((resolve, reject) => {\n",
              "            function loadScript(url) {\n",
              "            return new Promise(function(resolve, reject) {\n",
              "                let newScript = document.createElement(\"script\");\n",
              "                newScript.onerror = reject;\n",
              "                newScript.onload = resolve;\n",
              "                document.body.appendChild(newScript);\n",
              "                newScript.src = url;\n",
              "            });\n",
              "            }\n",
              "            loadScript(\"https://cdn.jsdelivr.net/npm/postmate/build/postmate.min.js\").then(() => {\n",
              "            const iframe = document.createElement('iframe')\n",
              "            iframe.style.cssText = \"width:0;height:0;border:none\"\n",
              "            document.body.appendChild(iframe)\n",
              "            const handshake = new Postmate({\n",
              "                container: iframe,\n",
              "                url: 'https://wandb.ai/authorize'\n",
              "            });\n",
              "            const timeout = setTimeout(() => reject(\"Couldn't auto authenticate\"), 5000)\n",
              "            handshake.then(function(child) {\n",
              "                child.on('authorize', data => {\n",
              "                    clearTimeout(timeout)\n",
              "                    resolve(data)\n",
              "                });\n",
              "            });\n",
              "            })\n",
              "        });\n",
              "    "
            ],
            "text/plain": [
              "<IPython.core.display.Javascript object>"
            ]
          },
          "metadata": {}
        },
        {
          "output_type": "stream",
          "name": "stderr",
          "text": [
            "\u001b[34m\u001b[1mwandb\u001b[0m: You can find your API key in your browser here: https://wandb.ai/authorize\n"
          ]
        },
        {
          "name": "stdout",
          "output_type": "stream",
          "text": [
            "wandb: Paste an API key from your profile and hit enter: ··········\n"
          ]
        },
        {
          "output_type": "stream",
          "name": "stderr",
          "text": [
            "\u001b[34m\u001b[1mwandb\u001b[0m: Appending key for api.wandb.ai to your netrc file: /root/.netrc\n"
          ]
        },
        {
          "output_type": "execute_result",
          "data": {
            "text/plain": [
              "True"
            ]
          },
          "metadata": {},
          "execution_count": 5
        }
      ]
    },
    {
      "cell_type": "markdown",
      "metadata": {
        "id": "Sbb647eratoD"
      },
      "source": [
        "# Utility Functions"
      ]
    },
    {
      "cell_type": "code",
      "metadata": {
        "id": "8q2xe3aXar90"
      },
      "source": [
        "def seed_everything(seed=123):\n",
        "  random.seed(seed)\n",
        "  os.environ['PYTHONHASHSEED'] = str(seed)\n",
        "  np.random.seed(seed)\n",
        "  torch.manual_seed(seed)\n",
        "  torch.cuda.manual_seed(seed)"
      ],
      "execution_count": 6,
      "outputs": []
    },
    {
      "cell_type": "code",
      "metadata": {
        "id": "J6_vNZkBjYPk"
      },
      "source": [
        "def create_animation(ims):\n",
        "    fig = plt.figure(figsize=(6, 6))\n",
        "    plt.axis('off')\n",
        "    im = plt.imshow(ims[0], cmap=\"gray\")\n",
        "\n",
        "    def animate_func(i):\n",
        "        im.set_array(ims[i])\n",
        "        return [im]\n",
        "\n",
        "    return animation.FuncAnimation(fig, animate_func, frames = len(ims), interval = 1000//24)"
      ],
      "execution_count": 7,
      "outputs": []
    },
    {
      "cell_type": "markdown",
      "metadata": {
        "id": "Oko9mcgNF2Mq"
      },
      "source": [
        "# Hyperparameters"
      ]
    },
    {
      "cell_type": "code",
      "metadata": {
        "id": "7NI4X63-F1dU"
      },
      "source": [
        "class Config:\n",
        "  model_name = \"efficientnet-b0\"\n",
        "  seq_length = 64\n",
        "  batch_size = 10\n",
        "  image_size = 256\n",
        "  train_size = 0.85\n",
        "  val_size = 1.0 - train_size\n",
        "  n_splits = 5\n",
        "  n_epochs = 10\n",
        "  init_lr = 0.0001\n",
        "  in_channels = 1\n",
        "\n",
        "  FLIP = 0.5 # @params: probability\n",
        "  CONTRAST = (0.7, 1.3, 0.5) # @params: (minval, maxval, probability)\n",
        "  BRIGHTNESS = (0.2, 0.4) # @params: (delta, probability)\n",
        "  GAMMA = (0.8, 1.2, 0.5) # @params: (minval, maxval, probability)\n",
        "  ROTATE = (20, 0.5) # @params: (maxangle, probability)\n",
        "  RANDOM_CROP = (180, 180, 0.4) # @params: (min_width, min_height, probability)\n",
        "  CUTOUT = ((15, 15), 15, 0.4) # @params: ((mask_dim0, mask_dim1), max_num_holes, probability)\n",
        "  BLUR = ([5, 5], 10, 0.4) # @params: ((filter_dim0, filter_dim1), sigma, probability)\n",
        "\n",
        "  # Permanent parameters.\n",
        "  num_workers = 0\n",
        "  folds = 5\n",
        "  classes = [\"MGMT_value\"]\n",
        "  n_classes = len(classes)\n",
        "  project_name_1fold = f\"RSNA-MICCAI-efnb0-3d_{image_size}_1fold\"\n",
        "  project_name_5fold = f\"RSNA-MICCAI-efnb0-3d_{image_size}_5fold\"\n",
        "  images_dir = r\"/content/rsna-miccai-processed/voxels\"\n",
        "  ckpt_dir = \".\"\n",
        "  seed = 123\n",
        "  seed_everything(seed)"
      ],
      "execution_count": 8,
      "outputs": []
    },
    {
      "cell_type": "markdown",
      "metadata": {
        "id": "_LEtk3xLboFS"
      },
      "source": [
        "# Dataset"
      ]
    },
    {
      "cell_type": "markdown",
      "metadata": {
        "id": "plVEeqVdAnbq"
      },
      "source": [
        "## Augmentations 3D"
      ]
    },
    {
      "cell_type": "code",
      "metadata": {
        "id": "Z1mFBN56AT05"
      },
      "source": [
        "def random_rotate3D(voxel, limit=90, p=0.5):\n",
        "  if tf.random.uniform(()) < p:\n",
        "      angle = tf.random.uniform((), minval=-limit, maxval=limit,\n",
        "                                dtype=tf.int32)\n",
        "      voxel = tfa.image.rotate(voxel, tf.cast(angle,\n",
        "                                              tf.float32)*(math.pi/180),\n",
        "                                interpolation='nearest',\n",
        "                                fill_mode='constant',\n",
        "                                fill_value=0.0)\n",
        "  return voxel\n",
        "\n",
        "def random_resized_crop3D(voxel, min_width, min_height, p=0.5):\n",
        "  if tf.random.uniform(()) < p:\n",
        "      voxel_shape = voxel.shape\n",
        "      assert voxel_shape[1] >= min_height\n",
        "      assert voxel_shape[2] >= min_width\n",
        "          \n",
        "      width = tf.random.uniform((), minval=min_width,\n",
        "                                maxval=voxel_shape[2],\n",
        "                                dtype=tf.int32)\n",
        "      height = tf.random.uniform((), minval=min_height,\n",
        "                                maxval=voxel_shape[1],\n",
        "                                dtype=tf.int32)\n",
        "      x = tf.random.uniform((), minval=0,\n",
        "                            maxval=voxel_shape[2] - width,\n",
        "                            dtype=tf.int32)\n",
        "      y = tf.random.uniform((), minval=0,\n",
        "                            maxval=voxel_shape[1] - height,\n",
        "                            dtype=tf.int32)\n",
        "      voxel = voxel[:, y:y+height, x:x+width, :]\n",
        "      voxel = tf.image.resize(voxel,\n",
        "                              voxel_shape[1:3],\n",
        "                              method='lanczos5')\n",
        "  return voxel\n",
        "\n",
        "def random_cutout3D(voxel, mask_shape=(10, 10), num_holes=20, p=0.5):\n",
        "    if tf.random.uniform(()) < p:\n",
        "        voxel_shape = voxel.shape\n",
        "        assert voxel_shape[1] >= mask_shape[0]\n",
        "        assert voxel_shape[2] >= mask_shape[1], f\"{voxel_shape} voxel shape and {mask_shape} mask shape\"\n",
        "\n",
        "        holes = tf.random.uniform((), minval=1, maxval=num_holes,\n",
        "                                  dtype=tf.int32)\n",
        "        mask_size = tf.constant([mask_shape[0], mask_shape[1]])\n",
        "        mask = tf.Variable((lambda : tf.ones(voxel_shape)),\n",
        "                          trainable=False)\n",
        "          \n",
        "        for i in tf.range(holes):\n",
        "            x = tf.random.uniform((), minval=0,\n",
        "                                  maxval=voxel_shape[2],\n",
        "                                  dtype=tf.int32)\n",
        "            y = tf.random.uniform((), minval=0,\n",
        "                                  maxval=voxel_shape[1],\n",
        "                                  dtype=tf.int32)\n",
        "            mask_endx = tf.add(x, mask_size[1])\n",
        "            mask_endy = tf.add(y, mask_size[0])\n",
        "            mask[:, x:mask_endx,\n",
        "                y:mask_endy, :].assign(tf.zeros_like(mask[:, x:mask_endx,\n",
        "                                                        y:mask_endy, :]))\n",
        "        voxel = tf.Tensor(np.multiply(voxel.numpy(), mask.numpy()))\n",
        "        mask.assign(tf.ones(voxel_shape))\n",
        "    return voxel\n",
        "\n",
        "def _get_gaussian_kernel(sigma, filter_shape):\n",
        "    x = tf.range(-filter_shape // 2 + 1, filter_shape // 2 + 1)\n",
        "    x = tf.cast(x ** 2, sigma.dtype)\n",
        "    x = tf.nn.softmax(-x / (2.0 * (sigma ** 2)))\n",
        "    return x\n",
        "\n",
        "def random_gaussian_blur3D(voxel, filter_shape=[5, 5], max_sigma=3, p=0.5):\n",
        "    if tf.random.uniform(()) < p:\n",
        "        sigma = tf.random.uniform((), minval=3, maxval=max_sigma,\n",
        "                          dtype=tf.int32)\n",
        "        filter_shape = tf.constant(filter_shape)\n",
        "        channels = voxel.shape[-1]\n",
        "        sigma = tf.cast(sigma, voxel.dtype)\n",
        "        gaussian_kernel_x = _get_gaussian_kernel(sigma,\n",
        "                                                filter_shape[1])\n",
        "        gaussian_kernel_x = gaussian_kernel_x[tf.newaxis, :]\n",
        "        gaussian_kernel_y = _get_gaussian_kernel(sigma,\n",
        "                                                filter_shape[0])        \n",
        "        gaussian_kernel_y = gaussian_kernel_y[:, tf.newaxis]\n",
        "        gaussian_kernel_2d = tf.matmul(gaussian_kernel_y,\n",
        "                                      gaussian_kernel_x)\n",
        "        gaussian_kernel_2d = gaussian_kernel_2d[:, :, tf.newaxis,\n",
        "                                                tf.newaxis]\n",
        "        gaussian_kernel_2d = tf.tile(gaussian_kernel_2d,\n",
        "                                    tf.constant([1, 1, channels, 1]))\n",
        "        voxel = tf.nn.depthwise_conv2d(input=voxel,\n",
        "                                      filter=gaussian_kernel_2d,\n",
        "                                      strides=(1, 1, 1, 1),\n",
        "                                      padding=\"SAME\",\n",
        "                                      )\n",
        "        voxel = tf.cast(voxel, voxel.dtype)\n",
        "    return voxel"
      ],
      "execution_count": 9,
      "outputs": []
    },
    {
      "cell_type": "markdown",
      "metadata": {
        "id": "sXsoGcIQArVS"
      },
      "source": [
        "## Building the Dataset"
      ]
    },
    {
      "cell_type": "code",
      "metadata": {
        "colab": {
          "base_uri": "https://localhost:8080/",
          "height": 0
        },
        "id": "YqhdtRtxo9es",
        "outputId": "3220069b-28e4-4d1b-f075-098e782687f2"
      },
      "source": [
        "train_val_labels = pd.read_csv(r\"/content/gdrive/MyDrive/Kaggle Competitions/RSNA-brain-tumor/train_labels.csv\")\n",
        "train_val_labels.head()"
      ],
      "execution_count": 10,
      "outputs": [
        {
          "output_type": "execute_result",
          "data": {
            "text/html": [
              "<div>\n",
              "<style scoped>\n",
              "    .dataframe tbody tr th:only-of-type {\n",
              "        vertical-align: middle;\n",
              "    }\n",
              "\n",
              "    .dataframe tbody tr th {\n",
              "        vertical-align: top;\n",
              "    }\n",
              "\n",
              "    .dataframe thead th {\n",
              "        text-align: right;\n",
              "    }\n",
              "</style>\n",
              "<table border=\"1\" class=\"dataframe\">\n",
              "  <thead>\n",
              "    <tr style=\"text-align: right;\">\n",
              "      <th></th>\n",
              "      <th>BraTS21ID</th>\n",
              "      <th>MGMT_value</th>\n",
              "    </tr>\n",
              "  </thead>\n",
              "  <tbody>\n",
              "    <tr>\n",
              "      <th>0</th>\n",
              "      <td>0</td>\n",
              "      <td>1</td>\n",
              "    </tr>\n",
              "    <tr>\n",
              "      <th>1</th>\n",
              "      <td>2</td>\n",
              "      <td>1</td>\n",
              "    </tr>\n",
              "    <tr>\n",
              "      <th>2</th>\n",
              "      <td>3</td>\n",
              "      <td>0</td>\n",
              "    </tr>\n",
              "    <tr>\n",
              "      <th>3</th>\n",
              "      <td>5</td>\n",
              "      <td>1</td>\n",
              "    </tr>\n",
              "    <tr>\n",
              "      <th>4</th>\n",
              "      <td>6</td>\n",
              "      <td>1</td>\n",
              "    </tr>\n",
              "  </tbody>\n",
              "</table>\n",
              "</div>"
            ],
            "text/plain": [
              "   BraTS21ID  MGMT_value\n",
              "0          0           1\n",
              "1          2           1\n",
              "2          3           0\n",
              "3          5           1\n",
              "4          6           1"
            ]
          },
          "metadata": {},
          "execution_count": 10
        }
      ]
    },
    {
      "cell_type": "code",
      "metadata": {
        "id": "bSXpa6pu7iuy"
      },
      "source": [
        "train_val_labels = train_val_labels[train_val_labels.BraTS21ID != 109]\n",
        "train_val_labels = train_val_labels[train_val_labels.BraTS21ID != 123]\n",
        "train_val_labels = train_val_labels[train_val_labels.BraTS21ID != 709]\n",
        "train_val_labels = train_val_labels.reset_index(drop=True)"
      ],
      "execution_count": 11,
      "outputs": []
    },
    {
      "cell_type": "code",
      "metadata": {
        "id": "Pn-2S7Ntp4vs"
      },
      "source": [
        "# 1-Fold.\n",
        "cfg = Config()\n",
        "\n",
        "sss = StratifiedShuffleSplit(n_splits=1, train_size=cfg.train_size)\n",
        "\n",
        "for train_idx, val_idx in sss.split(train_val_labels, train_val_labels.MGMT_value):\n",
        "  train_labels_1fold = train_val_labels.loc[train_idx].reset_index(drop=True)\n",
        "  val_labels_1fold = train_val_labels.loc[val_idx].reset_index(drop=True)"
      ],
      "execution_count": 12,
      "outputs": []
    },
    {
      "cell_type": "code",
      "metadata": {
        "colab": {
          "base_uri": "https://localhost:8080/"
        },
        "id": "k6Lgl9mBq3Kj",
        "outputId": "ae44721f-307d-4300-e640-bc94acfbe85b"
      },
      "source": [
        "train_labels_1fold.shape, val_labels_1fold.shape"
      ],
      "execution_count": 13,
      "outputs": [
        {
          "output_type": "execute_result",
          "data": {
            "text/plain": [
              "((494, 2), (88, 2))"
            ]
          },
          "metadata": {},
          "execution_count": 13
        }
      ]
    },
    {
      "cell_type": "code",
      "metadata": {
        "colab": {
          "base_uri": "https://localhost:8080/",
          "height": 0
        },
        "id": "e2H_kOa8rF6j",
        "outputId": "5b18da67-9314-4e81-d3a6-6102e3fd0a80"
      },
      "source": [
        "display(train_labels_1fold.MGMT_value.value_counts()),\n",
        "display(val_labels_1fold.MGMT_value.value_counts())"
      ],
      "execution_count": 14,
      "outputs": [
        {
          "output_type": "display_data",
          "data": {
            "text/plain": [
              "1    260\n",
              "0    234\n",
              "Name: MGMT_value, dtype: int64"
            ]
          },
          "metadata": {}
        },
        {
          "output_type": "display_data",
          "data": {
            "text/plain": [
              "1    46\n",
              "0    42\n",
              "Name: MGMT_value, dtype: int64"
            ]
          },
          "metadata": {}
        }
      ]
    },
    {
      "cell_type": "code",
      "metadata": {
        "id": "YTLsNDn1recL"
      },
      "source": [
        "# 5-Fold.\n",
        "skf = StratifiedKFold(n_splits=cfg.n_splits)\n",
        "\n",
        "train_val_labels_5fold = train_val_labels.copy()\n",
        "for fold, train_val_idx in enumerate(skf.split(train_val_labels_5fold, train_val_labels_5fold.MGMT_value)):\n",
        "  train_idx = train_val_idx[0]\n",
        "  val_idx = train_val_idx[1]\n",
        "  train_val_labels_5fold.loc[val_idx, \"skf_mgmt_fold\"] = fold"
      ],
      "execution_count": 15,
      "outputs": []
    },
    {
      "cell_type": "code",
      "metadata": {
        "colab": {
          "base_uri": "https://localhost:8080/"
        },
        "id": "LeTnSmlbsNOj",
        "outputId": "5160aa12-f8c0-444a-8931-06230f45dc22"
      },
      "source": [
        "train_val_labels_5fold.skf_mgmt_fold.value_counts()"
      ],
      "execution_count": 16,
      "outputs": [
        {
          "output_type": "execute_result",
          "data": {
            "text/plain": [
              "1.0    117\n",
              "0.0    117\n",
              "4.0    116\n",
              "3.0    116\n",
              "2.0    116\n",
              "Name: skf_mgmt_fold, dtype: int64"
            ]
          },
          "metadata": {},
          "execution_count": 16
        }
      ]
    },
    {
      "cell_type": "code",
      "metadata": {
        "colab": {
          "base_uri": "https://localhost:8080/",
          "height": 0
        },
        "id": "rh0Alg07s_U7",
        "outputId": "fb73b76f-7844-4179-e05b-51e8d1924d50"
      },
      "source": [
        "train_labels_1fold"
      ],
      "execution_count": 17,
      "outputs": [
        {
          "output_type": "execute_result",
          "data": {
            "text/html": [
              "<div>\n",
              "<style scoped>\n",
              "    .dataframe tbody tr th:only-of-type {\n",
              "        vertical-align: middle;\n",
              "    }\n",
              "\n",
              "    .dataframe tbody tr th {\n",
              "        vertical-align: top;\n",
              "    }\n",
              "\n",
              "    .dataframe thead th {\n",
              "        text-align: right;\n",
              "    }\n",
              "</style>\n",
              "<table border=\"1\" class=\"dataframe\">\n",
              "  <thead>\n",
              "    <tr style=\"text-align: right;\">\n",
              "      <th></th>\n",
              "      <th>BraTS21ID</th>\n",
              "      <th>MGMT_value</th>\n",
              "    </tr>\n",
              "  </thead>\n",
              "  <tbody>\n",
              "    <tr>\n",
              "      <th>0</th>\n",
              "      <td>549</td>\n",
              "      <td>1</td>\n",
              "    </tr>\n",
              "    <tr>\n",
              "      <th>1</th>\n",
              "      <td>559</td>\n",
              "      <td>1</td>\n",
              "    </tr>\n",
              "    <tr>\n",
              "      <th>2</th>\n",
              "      <td>339</td>\n",
              "      <td>0</td>\n",
              "    </tr>\n",
              "    <tr>\n",
              "      <th>3</th>\n",
              "      <td>436</td>\n",
              "      <td>1</td>\n",
              "    </tr>\n",
              "    <tr>\n",
              "      <th>4</th>\n",
              "      <td>737</td>\n",
              "      <td>1</td>\n",
              "    </tr>\n",
              "    <tr>\n",
              "      <th>...</th>\n",
              "      <td>...</td>\n",
              "      <td>...</td>\n",
              "    </tr>\n",
              "    <tr>\n",
              "      <th>489</th>\n",
              "      <td>138</td>\n",
              "      <td>1</td>\n",
              "    </tr>\n",
              "    <tr>\n",
              "      <th>490</th>\n",
              "      <td>390</td>\n",
              "      <td>0</td>\n",
              "    </tr>\n",
              "    <tr>\n",
              "      <th>491</th>\n",
              "      <td>300</td>\n",
              "      <td>0</td>\n",
              "    </tr>\n",
              "    <tr>\n",
              "      <th>492</th>\n",
              "      <td>325</td>\n",
              "      <td>0</td>\n",
              "    </tr>\n",
              "    <tr>\n",
              "      <th>493</th>\n",
              "      <td>425</td>\n",
              "      <td>1</td>\n",
              "    </tr>\n",
              "  </tbody>\n",
              "</table>\n",
              "<p>494 rows × 2 columns</p>\n",
              "</div>"
            ],
            "text/plain": [
              "     BraTS21ID  MGMT_value\n",
              "0          549           1\n",
              "1          559           1\n",
              "2          339           0\n",
              "3          436           1\n",
              "4          737           1\n",
              "..         ...         ...\n",
              "489        138           1\n",
              "490        390           0\n",
              "491        300           0\n",
              "492        325           0\n",
              "493        425           1\n",
              "\n",
              "[494 rows x 2 columns]"
            ]
          },
          "metadata": {},
          "execution_count": 17
        }
      ]
    },
    {
      "cell_type": "code",
      "metadata": {
        "id": "aqOYbEF3btsK"
      },
      "source": [
        "# 1-Fold.\n",
        "class ProcessedTrain1FoldDataset(Dataset, ):\n",
        "    def __init__(self, df, images_dir, image_size, modality, mode, classes):\n",
        "        super(ProcessedTrain1FoldDataset, self).__init__()\n",
        "        self.df = df.reset_index(drop=True)\n",
        "        self.images_dir = images_dir\n",
        "        self.image_size = image_size\n",
        "        self.modality = modality\n",
        "        self.modality_dir = os.path.join(self.images_dir, self.modality)\n",
        "        assert mode in ['train', 'valid']\n",
        "        self.mode = mode\n",
        "        self.classes = classes\n",
        "\n",
        "        if self.mode == 'train':\n",
        "            # self.df = self.df.sample(frac=1).reset_index(drop=True)\n",
        "            self.transform = tio.Compose([\n",
        "              tio.RandomElasticDeformation(p=0.5),\n",
        "              tio.RandomFlip(p=0.5),\n",
        "              tio.RandomGamma(p=0.5),\n",
        "              tio.RandomNoise(p=0.5),\n",
        "              tio.RandomAffine(p=0.5),\n",
        "              tio.RandomAnisotropy(p=0.5),\n",
        "              tio.RandomBlur(p=0.5),\n",
        "              tio.RandomMotion(p=0.5),\n",
        "              tio.RandomElasticDeformation(p=0.5),\n",
        "              tio.RandomSpike(p=0.5),\n",
        "              tio.RandomGhosting(p=0.5),\n",
        "              tio.ZNormalization()\n",
        "            ])\n",
        "        else:\n",
        "            self.transform = tio.Compose([\n",
        "              tio.ZNormalization()\n",
        "            ])\n",
        "\n",
        "    def __len__(self):\n",
        "        return len(self.df)\n",
        "\n",
        "    def __getitem__(self, index):\n",
        "          patientid = self.df.loc[index, \"BraTS21ID\"]\n",
        "          label = torch.FloatTensor(self.df.loc[index, self.classes])\n",
        "\n",
        "          # Maybe 3 models: 1 for FLAIR, 1 for T1wCE, 1 for T2w (exclude T1w).\n",
        "          img_npy_path = os.path.join(self.modality_dir, str(patientid).zfill(5) + \".npy\")\n",
        "          img = np.load(img_npy_path).clip(0, 255)\n",
        "          img = np.expand_dims(img, axis=-1)\n",
        "          # img = np.stack([img, img, img], axis=-1)\n",
        "\n",
        "          img = np.transpose(img, [3, 1, 2, 0])\n",
        "\n",
        "          img = self.transform(data=img)\n",
        "\n",
        "          img = np.transpose(img, [0, 3, 1, 2])\n",
        "\n",
        "          return {\"images\": torch.FloatTensor(img), \"labels\": label}"
      ],
      "execution_count": 18,
      "outputs": []
    },
    {
      "cell_type": "code",
      "metadata": {
        "id": "OfkNl-QilQtF"
      },
      "source": [
        "# ani = create_animation(np.transpose(np.squeeze(exp_ds[0][\"images\"]), [2, 0, 1]))\n",
        "# ani"
      ],
      "execution_count": 19,
      "outputs": []
    },
    {
      "cell_type": "code",
      "metadata": {
        "id": "9Jjp9F1e1DwA"
      },
      "source": [
        "# writervideo = animation.FFMpegWriter(fps=60)\n",
        "# ani.save(\"a_gif.mp4\", writer=writervideo)"
      ],
      "execution_count": 20,
      "outputs": []
    },
    {
      "cell_type": "markdown",
      "metadata": {
        "id": "bLo7FLTXsw4R"
      },
      "source": [
        "# Training 1-Fold"
      ]
    },
    {
      "cell_type": "code",
      "metadata": {
        "colab": {
          "base_uri": "https://localhost:8080/"
        },
        "id": "mDhhq5dfVMHs",
        "outputId": "dc472206-785a-4eb4-8264-6aa53674b8cc"
      },
      "source": [
        "import torch\n",
        "if torch.cuda.is_available():\n",
        "  print(\"[INFO] Using GPU: {}\\n\".format(torch.cuda.get_device_name()))\n",
        "else:\n",
        "  print(\"\\n[INFO] GPU not found. Using CPU: {}\\n\".format(platform.processor()))"
      ],
      "execution_count": 21,
      "outputs": [
        {
          "output_type": "stream",
          "name": "stdout",
          "text": [
            "[INFO] Using GPU: Tesla P100-PCIE-16GB\n",
            "\n"
          ]
        }
      ]
    },
    {
      "cell_type": "code",
      "metadata": {
        "id": "oz4KMECj__mD",
        "colab": {
          "base_uri": "https://localhost:8080/",
          "height": 200,
          "referenced_widgets": [
            "046e9be5cb7d4a7b860726f4b19b5049",
            "aa11adb6cd184d408cbf1aa2447ba6dc",
            "56df090a91f74c18ae617d74f55160b1",
            "fa7999cc93d84be6a351f57c070be8fa",
            "bf9bf0c756c044cbb44c8dcb629964f0",
            "819cec7df8534ba0bc4d76fa9c779081",
            "6fecc4d276c7495bb31a2f259022f356",
            "a52592f9e59942019ae8eda9c770bf1b",
            "778eb4bcfc214871a9fe8f336220def1",
            "ff38b724e64d4bbb97f59b6723ea1dbd",
            "a9a376de45664738a0d919b4ebf24471"
          ]
        },
        "outputId": "d00fcb8d-fe8b-49d5-d2a7-04c2d4fbcadf"
      },
      "source": [
        "cfg = Config()\n",
        "device = torch.device(\"cuda\" if torch.cuda.is_available() else \"cpu\")\n",
        "\n",
        "training_modalities = [\"FLAIR\", \"T1wCE\", \"T2w\"]\n",
        "\n",
        "models = {modality: EfficientNet3D.from_name(cfg.model_name, override_params={'num_classes': cfg.n_classes}, in_channels=cfg.in_channels) for modality in training_modalities}\n",
        "\n",
        "for modality in training_modalities:\n",
        "  CHECKPOINT = '{}/{}_{}_1fold_{}.pth'.format(cfg.ckpt_dir, cfg.model_name, cfg.image_size, modality)\n",
        "\n",
        "  run = wandb.init(project=cfg.project_name_1fold, name=f\"{modality}\")\n",
        "\n",
        "  train_ds = ProcessedTrain1FoldDataset(df=train_labels_1fold, \n",
        "                                    images_dir=cfg.images_dir, \n",
        "                                    image_size=cfg.image_size, \n",
        "                                    modality=modality,\n",
        "                                    mode=\"train\", \n",
        "                                    classes=cfg.classes)\n",
        "  val_ds = ProcessedTrain1FoldDataset(df=val_labels_1fold, \n",
        "                                    images_dir=cfg.images_dir, \n",
        "                                    image_size=cfg.image_size, \n",
        "                                    modality=modality,\n",
        "                                    mode=\"valid\", \n",
        "                                    classes=cfg.classes)\n",
        "  \n",
        "  train_loader = DataLoader(train_ds, \n",
        "             batch_size=cfg.batch_size, \n",
        "             sampler=RandomSampler(train_ds), \n",
        "             num_workers=cfg.num_workers)\n",
        "\n",
        "  val_loader = DataLoader(val_ds, \n",
        "             batch_size=cfg.batch_size, \n",
        "             sampler=SequentialSampler(val_ds), \n",
        "             num_workers=cfg.num_workers)\n",
        "\n",
        "  model = models[modality]\n",
        "  if modality == \"FLAIR\":\n",
        "    model.load_state_dict(torch.load(r\"/content/0ce0f5b3f7abc9cfcb439d540d35d37e\"))\n",
        "  criterion = nn.BCEWithLogitsLoss()\n",
        "  scaler = torch.cuda.amp.GradScaler()\n",
        "  optimizer = torch.optim.Adam(model.parameters(), lr=cfg.init_lr)\n",
        "  scheduler = torch.optim.lr_scheduler.CosineAnnealingLR(optimizer, cfg.n_epochs-1)\n",
        "\n",
        "  val_loss_min = np.Inf\n",
        "  early_stopping_patience = 5\n",
        "  cnt = 0\n",
        "\n",
        "  for idx, epoch in enumerate(range(1, cfg.n_epochs + 1)):\n",
        "      scheduler.step()\n",
        "      model.train().to(device)\n",
        "      train_loss = []\n",
        "\n",
        "      print('Epoch: {:02d}/{:02d}'.format(epoch, cfg.n_epochs))\n",
        "      print(\"TRAIN\")\n",
        "\n",
        "      loop = tqdm(train_loader)\n",
        "      for batch in loop:\n",
        "        images = batch[\"images\"]\n",
        "        labels = batch[\"labels\"]\n",
        "        images = images.to(device).float()\n",
        "        labels = labels.to(device).float()\n",
        "\n",
        "        optimizer.zero_grad()\n",
        "\n",
        "        with torch.cuda.amp.autocast():\n",
        "          output = model(images)\n",
        "          loss = criterion(output, labels)\n",
        "\n",
        "        scaler.scale(loss).backward()\n",
        "        scaler.step(optimizer)\n",
        "        scaler.update()\n",
        "\n",
        "        train_loss.append(loss.item())\n",
        "        loop.set_description('current_loss: {:.5f} | LR: {:.5f}'.format(loss.item(), optimizer.param_groups[0]['lr']))\n",
        "        loop.set_postfix(loss=np.mean(train_loss))\n",
        "      train_loss = np.mean(train_loss)\n",
        "\n",
        "      model.eval()\n",
        "\n",
        "      auc_scores = []\n",
        "      val_loss = []\n",
        "\n",
        "      print(\"VAL\")\n",
        "      loop = tqdm(val_loader)\n",
        "      for batches in loop:\n",
        "        images = batch[\"images\"]\n",
        "        labels = batch[\"labels\"]\n",
        "        images = images.to(device).float()\n",
        "        labels = labels.to(device).float()\n",
        "\n",
        "        with torch.cuda.amp.autocast(), torch.no_grad():\n",
        "          outputs = model(images)\n",
        "          loss = criterion(outputs.float(), labels)\n",
        "          \n",
        "        auc_score = roc_auc_score(labels.data.cpu().numpy(), \n",
        "                                  F.sigmoid(outputs).data.cpu().numpy())\n",
        "        auc_scores.append(auc_score)\n",
        "\n",
        "        val_loss.append(loss.item())\n",
        "        loop.set_description('current_loss: {:.5f} | current_auc: {:.5f}'.format(loss.item(), auc_score))\n",
        "        loop.set_postfix(loss=np.mean(val_loss), auc=np.mean(auc_scores))\n",
        "      val_loss = np.mean(val_loss)\n",
        "      final_auc_score = np.mean(auc_scores)\n",
        "\n",
        "      wandb.log({\"epoch\": epoch, \n",
        "                \"loss\": train_loss, \n",
        "                \"val_loss\": val_loss,\n",
        "                \"val_auc\": final_auc_score,\n",
        "                })\n",
        "      \n",
        "      if val_loss < val_loss_min:\n",
        "        cnt = 0\n",
        "        print('Valid loss improved from {:.5f} to {:.5f} saving model to {}'.format(val_loss_min, val_loss, CHECKPOINT))\n",
        "        val_loss_min = val_loss\n",
        "        torch.save(model.state_dict(), CHECKPOINT)\n",
        "        artifact = wandb.Artifact(cfg.model_name, type='model')\n",
        "        artifact.add_file(CHECKPOINT, name=f\"{modality}_epoch_{epoch}.pt\")\n",
        "        run.log_artifact(artifact)\n",
        "      else:\n",
        "        cnt += 1\n",
        "      print(\"\")\n",
        "      \n",
        "      if cnt >= early_stopping_patience:\n",
        "        break \n",
        "\n",
        "  del model\n",
        "  del optimizer\n",
        "  gc.collect()\n",
        "  torch.cuda.empty_cache()\n",
        "\n",
        "  run.finish()"
      ],
      "execution_count": null,
      "outputs": [
        {
          "output_type": "stream",
          "name": "stderr",
          "text": [
            "\u001b[34m\u001b[1mwandb\u001b[0m: Currently logged in as: \u001b[33mvincenttu\u001b[0m (use `wandb login --relogin` to force relogin)\n"
          ]
        },
        {
          "output_type": "display_data",
          "data": {
            "text/html": [
              "\n",
              "                Tracking run with wandb version 0.12.2<br/>\n",
              "                Syncing run <strong style=\"color:#cdcd00\">FLAIR</strong> to <a href=\"https://wandb.ai\" target=\"_blank\">Weights & Biases</a> <a href=\"https://docs.wandb.com/integrations/jupyter.html\" target=\"_blank\">(Documentation)</a>.<br/>\n",
              "                Project page: <a href=\"https://wandb.ai/vincenttu/RSNA-MICCAI-efnb0-3d_256_1fold\" target=\"_blank\">https://wandb.ai/vincenttu/RSNA-MICCAI-efnb0-3d_256_1fold</a><br/>\n",
              "                Run page: <a href=\"https://wandb.ai/vincenttu/RSNA-MICCAI-efnb0-3d_256_1fold/runs/1yhlo6mp\" target=\"_blank\">https://wandb.ai/vincenttu/RSNA-MICCAI-efnb0-3d_256_1fold/runs/1yhlo6mp</a><br/>\n",
              "                Run data is saved locally in <code>/content/wandb/run-20210922_030533-1yhlo6mp</code><br/><br/>\n",
              "            "
            ],
            "text/plain": [
              "<IPython.core.display.HTML object>"
            ]
          },
          "metadata": {}
        },
        {
          "output_type": "stream",
          "name": "stdout",
          "text": [
            "Epoch: 01/10\n",
            "TRAIN\n"
          ]
        },
        {
          "output_type": "display_data",
          "data": {
            "application/vnd.jupyter.widget-view+json": {
              "model_id": "046e9be5cb7d4a7b860726f4b19b5049",
              "version_minor": 0,
              "version_major": 2
            },
            "text/plain": [
              "  0%|          | 0/50 [00:00<?, ?it/s]"
            ]
          },
          "metadata": {}
        }
      ]
    },
    {
      "cell_type": "code",
      "metadata": {
        "id": "JEJdCNOO6y3R"
      },
      "source": [
        ""
      ],
      "execution_count": null,
      "outputs": []
    }
  ]
}