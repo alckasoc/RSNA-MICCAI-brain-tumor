{
  "nbformat": 4,
  "nbformat_minor": 0,
  "metadata": {
    "colab": {
      "name": "make_plane_modality_kfold.ipynb",
      "provenance": []
    },
    "kernelspec": {
      "name": "python3",
      "display_name": "Python 3"
    },
    "language_info": {
      "name": "python"
    }
  },
  "cells": [
    {
      "cell_type": "markdown",
      "metadata": {
        "id": "H7NeW88DDtf0"
      },
      "source": [
        "# Setup"
      ]
    },
    {
      "cell_type": "code",
      "metadata": {
        "colab": {
          "base_uri": "https://localhost:8080/"
        },
        "id": "PEzFIbA5D_4z",
        "outputId": "11e4cb34-8a9e-4253-99a9-5e230ac0b87a"
      },
      "source": [
        "from google.colab import drive\n",
        "drive.mount('/content/gdrive')"
      ],
      "execution_count": null,
      "outputs": [
        {
          "output_type": "stream",
          "name": "stdout",
          "text": [
            "Mounted at /content/gdrive\n"
          ]
        }
      ]
    },
    {
      "cell_type": "code",
      "metadata": {
        "id": "KpN7CB31DJxU"
      },
      "source": [
        "# General imports.\n",
        "import os\n",
        "import random\n",
        "\n",
        "import numpy as np\n",
        "import pandas as pd\n",
        "import torch\n",
        "\n",
        "# Specific Imports.\n",
        "\n",
        "from sklearn.model_selection import GroupKFold\n",
        "from sklearn.model_selection import StratifiedKFold\n",
        "\n",
        "import warnings\n",
        "warnings.simplefilter('ignore')"
      ],
      "execution_count": null,
      "outputs": []
    },
    {
      "cell_type": "markdown",
      "metadata": {
        "id": "Js7s54M2Lw2s"
      },
      "source": [
        "# Utility Functions"
      ]
    },
    {
      "cell_type": "code",
      "metadata": {
        "id": "Qd2IJ1R4LwVz"
      },
      "source": [
        "def seed_everything(seed=123):\n",
        "  random.seed(seed)\n",
        "  os.environ['PYTHONHASHSEED'] = str(seed)\n",
        "  np.random.seed(seed)\n",
        "  torch.manual_seed(seed)\n",
        "  torch.cuda.manual_seed(seed)"
      ],
      "execution_count": null,
      "outputs": []
    },
    {
      "cell_type": "markdown",
      "metadata": {
        "id": "QE5JV4W5LrF0"
      },
      "source": [
        "# Hyperparameters"
      ]
    },
    {
      "cell_type": "code",
      "metadata": {
        "id": "DBZkrJI2LtKj"
      },
      "source": [
        "class Config:\n",
        "  n_splits = 5\n",
        "\n",
        "  seed_everything()"
      ],
      "execution_count": null,
      "outputs": []
    },
    {
      "cell_type": "code",
      "metadata": {
        "id": "fhWGvT0ILqgv"
      },
      "source": [
        "cfg = Config()"
      ],
      "execution_count": null,
      "outputs": []
    },
    {
      "cell_type": "markdown",
      "metadata": {
        "id": "NIOIVa05Dqym"
      },
      "source": [
        "# Building the KFold DataFrame"
      ]
    },
    {
      "cell_type": "code",
      "metadata": {
        "colab": {
          "base_uri": "https://localhost:8080/"
        },
        "id": "BOGl4ttNDswy",
        "outputId": "51f3a7c5-0a73-40c3-afb6-f382598c1f5c"
      },
      "source": [
        "det_train_meta = pd.read_csv(r\"/content/gdrive/MyDrive/Kaggle Competitions/RSNA-brain-tumor/detailed_train_meta.csv\")\n",
        "train_kfold = pd.read_csv(r\"/content/gdrive/MyDrive/Kaggle Competitions/RSNA-brain-tumor/train_kfold.csv\")"
      ],
      "execution_count": null,
      "outputs": [
        {
          "output_type": "stream",
          "name": "stderr",
          "text": [
            "/usr/local/lib/python3.7/dist-packages/IPython/core/interactiveshell.py:2718: DtypeWarning: Columns (16,45,46) have mixed types.Specify dtype option on import or set low_memory=False.\n",
            "  interactivity=interactivity, compiler=compiler, result=result)\n"
          ]
        }
      ]
    },
    {
      "cell_type": "code",
      "metadata": {
        "colab": {
          "base_uri": "https://localhost:8080/"
        },
        "id": "PnVLjl4lHF64",
        "outputId": "dbb92ef2-2a6e-484d-e647-e4c6469d3c91"
      },
      "source": [
        "det_train_meta.shape, train_kfold.shape"
      ],
      "execution_count": null,
      "outputs": [
        {
          "output_type": "execute_result",
          "data": {
            "text/plain": [
              "((348641, 51), (253856, 13))"
            ]
          },
          "metadata": {},
          "execution_count": 18
        }
      ]
    },
    {
      "cell_type": "code",
      "metadata": {
        "id": "i5sadtpsDycW"
      },
      "source": [
        "train_kfold = train_kfold[train_kfold.PatientID != 109]\n",
        "train_kfold = train_kfold[train_kfold.PatientID != 123]\n",
        "train_kfold = train_kfold[train_kfold.PatientID != 709].reset_index(drop=True)"
      ],
      "execution_count": null,
      "outputs": []
    },
    {
      "cell_type": "code",
      "metadata": {
        "colab": {
          "base_uri": "https://localhost:8080/"
        },
        "id": "BWssuTZqI05W",
        "outputId": "a251f44d-f588-44cb-c0af-129e17d7a10b"
      },
      "source": [
        "det_train_meta.shape, train_kfold.shape"
      ],
      "execution_count": null,
      "outputs": [
        {
          "output_type": "execute_result",
          "data": {
            "text/plain": [
              "((348641, 51), (253129, 13))"
            ]
          },
          "metadata": {},
          "execution_count": 20
        }
      ]
    },
    {
      "cell_type": "code",
      "metadata": {
        "id": "nRoj63-GEnVu"
      },
      "source": [
        "train_kfold[\"patientid_sd\"] = train_kfold.PatientID.astype(\"string\") + \"_\" + train_kfold.SeriesDescription\n",
        "det_train_meta[\"patientid_sd\"] = det_train_meta.PatientID.astype(\"string\") + \"_\" + det_train_meta.SeriesDescription"
      ],
      "execution_count": null,
      "outputs": []
    },
    {
      "cell_type": "code",
      "metadata": {
        "id": "o-VTtdgUEj9k"
      },
      "source": [
        "orientation_dict = {}\n",
        "for x in det_train_meta.patientid_sd.unique():\n",
        "  orientation_dict[x] = det_train_meta[det_train_meta.patientid_sd == x].Orientation.values[0]"
      ],
      "execution_count": null,
      "outputs": []
    },
    {
      "cell_type": "code",
      "metadata": {
        "id": "QJcgI5GoEkyV"
      },
      "source": [
        "train_kfold[\"plane\"] = 0\n",
        "for key, value in orientation_dict.items():\n",
        "  train_kfold.loc[(train_kfold.patientid_sd == key), \"plane\"] = value"
      ],
      "execution_count": null,
      "outputs": []
    },
    {
      "cell_type": "code",
      "metadata": {
        "id": "hqFIAZgpFMHk"
      },
      "source": [
        "train_kfold = train_kfold.drop(columns=[\"fold_gkf_patientid\", \"fold_skf_patientid\", \"fold_skf_seriesdescription\", \n",
        "                                        \"fold_skf_MGMT_value\", \"fold_gkf_png_filepath\", \"patientid_sd\"])"
      ],
      "execution_count": null,
      "outputs": []
    },
    {
      "cell_type": "code",
      "metadata": {
        "id": "531rij_zEp1M"
      },
      "source": [
        "axial_FLAIR = train_kfold[(train_kfold.plane == \"axial\") & (train_kfold.SeriesDescription == \"FLAIR\")].reset_index(drop=True)\n",
        "coronal_FLAIR = train_kfold[(train_kfold.plane == \"coronal\") & (train_kfold.SeriesDescription == \"FLAIR\")].reset_index(drop=True)\n",
        "sagittal_FLAIR = train_kfold[(train_kfold.plane == \"sagittal\") & (train_kfold.SeriesDescription == \"FLAIR\")].reset_index(drop=True)\n",
        "\n",
        "axial_T1w = train_kfold[(train_kfold.plane == \"axial\") & (train_kfold.SeriesDescription == \"T1w\")].reset_index(drop=True)\n",
        "coronal_T1w = train_kfold[(train_kfold.plane == \"coronal\") & (train_kfold.SeriesDescription == \"T1w\")].reset_index(drop=True)\n",
        "sagittal_T1w = train_kfold[(train_kfold.plane == \"sagittal\") & (train_kfold.SeriesDescription == \"T1w\")].reset_index(drop=True)\n",
        "\n",
        "axial_T1wCE = train_kfold[(train_kfold.plane == \"axial\") & (train_kfold.SeriesDescription == \"T1wCE\")].reset_index(drop=True)\n",
        "coronal_T1wCE = train_kfold[(train_kfold.plane == \"coronal\") & (train_kfold.SeriesDescription == \"T1wCE\")].reset_index(drop=True)\n",
        "sagittal_T1wCE = train_kfold[(train_kfold.plane == \"sagittal\") & (train_kfold.SeriesDescription == \"T1wCE\")].reset_index(drop=True)\n",
        "\n",
        "axial_T2w = train_kfold[(train_kfold.plane == \"axial\") & (train_kfold.SeriesDescription == \"T2w\")].reset_index(drop=True)\n",
        "coronal_T2w = train_kfold[(train_kfold.plane == \"coronal\") & (train_kfold.SeriesDescription == \"T2w\")].reset_index(drop=True)\n",
        "sagittal_T2w = train_kfold[(train_kfold.plane == \"sagittal\") & (train_kfold.SeriesDescription == \"T2w\")].reset_index(drop=True)"
      ],
      "execution_count": null,
      "outputs": []
    },
    {
      "cell_type": "code",
      "metadata": {
        "id": "j4QoFiSsErSt"
      },
      "source": [
        "group_kfold = GroupKFold(n_splits=cfg.n_splits)\n",
        "strat_kfold = StratifiedKFold(n_splits=cfg.n_splits)\n",
        "\n",
        "for train_df in [axial_FLAIR, coronal_FLAIR, sagittal_FLAIR,\n",
        "                 axial_T1w, coronal_T1w, sagittal_T1w,\n",
        "                 axial_T1wCE, coronal_T1wCE, sagittal_T1wCE,\n",
        "                 axial_T2w, coronal_T2w , sagittal_T2w]:\n",
        "  # GroupKFold-PatientID. \n",
        "  for fold, train_val_idx in enumerate(group_kfold.split(train_df, groups=getattr(train_df, \"PatientID\"))):\n",
        "    train_idx, val_idx = train_val_idx[0], train_val_idx[1]\n",
        "    train_df.loc[val_idx, 'fold_gkf_patientid'] = fold\n",
        "\n",
        "  # GroupKFold-png_filepath.\n",
        "  for fold, train_val_idx in enumerate(group_kfold.split(train_df, groups=getattr(train_df, \"png_filepath\"))):\n",
        "    train_idx, val_idx = train_val_idx[0], train_val_idx[1]\n",
        "    train_df.loc[val_idx, 'fold_gkf_png_filepath'] = fold\n",
        "\n",
        "  # StratifiedKFold-PatientID. \n",
        "  for fold, train_val_idx in enumerate(strat_kfold.split(train_df, getattr(train_df, \"PatientID\"))):\n",
        "    train_idx, val_idx = train_val_idx[0], train_val_idx[1]\n",
        "    train_df.loc[val_idx, 'fold_skf_patientid'] = fold\n",
        "\n",
        "  # StratifiedKFold-SeriesDescription. \n",
        "  for fold, train_val_idx in enumerate(strat_kfold.split(train_df, getattr(train_df, \"SeriesDescription\"))):\n",
        "    train_idx, val_idx = train_val_idx[0], train_val_idx[1]\n",
        "    train_df.loc[val_idx, 'fold_skf_seriesdescription'] = fold\n",
        "\n",
        "  # StratifiedKFold-MGMT_value. \n",
        "  for fold, train_val_idx in enumerate(strat_kfold.split(train_df, getattr(train_df, \"MGMT_value\"))):\n",
        "    train_idx, val_idx = train_val_idx[0], train_val_idx[1]\n",
        "    train_df.loc[val_idx, 'fold_skf_MGMT_value'] = fold"
      ],
      "execution_count": null,
      "outputs": []
    },
    {
      "cell_type": "code",
      "metadata": {
        "id": "ddoBl4NTN0FE"
      },
      "source": [
        "save_path = r\"/content/gdrive/MyDrive/Kaggle Competitions/RSNA-brain-tumor\"\n",
        "\n",
        "axial_FLAIR.to_csv(os.path.join(save_path, \"axial_FLAIR.csv\"), index=False)\n",
        "coronal_FLAIR.to_csv(os.path.join(save_path, \"coronal_FLAIR.csv\"), index=False)\n",
        "sagittal_FLAIR.to_csv(os.path.join(save_path, \"sagittal_FLAIR.csv\"), index=False)\n",
        "\n",
        "axial_T1w.to_csv(os.path.join(save_path, \"axial_T1w.csv\"), index=False)\n",
        "coronal_T1w.to_csv(os.path.join(save_path, \"coronal_T1w.csv\"), index=False)\n",
        "sagittal_T1w.to_csv(os.path.join(save_path, \"sagittal_T1w.csv\"), index=False)\n",
        "\n",
        "axial_T1wCE.to_csv(os.path.join(save_path, \"axial_T1wCE.csv\"), index=False)\n",
        "coronal_T1wCE.to_csv(os.path.join(save_path, \"coronal_T1wCE.csv\"), index=False)\n",
        "sagittal_T1wCE.to_csv(os.path.join(save_path, \"sagittal_T1wCE.csv\"), index=False)\n",
        "\n",
        "axial_T2w.to_csv(os.path.join(save_path, \"axial_T2w.csv\"), index=False)\n",
        "coronal_T2w.to_csv(os.path.join(save_path, \"coronal_T2w.csv\"), index=False)\n",
        "sagittal_T2w.to_csv(os.path.join(save_path, \"sagittal_T2w.csv\"), index=False)"
      ],
      "execution_count": null,
      "outputs": []
    },
    {
      "cell_type": "code",
      "metadata": {
        "id": "C0L1P-caP2-9"
      },
      "source": [
        ""
      ],
      "execution_count": null,
      "outputs": []
    }
  ]
}