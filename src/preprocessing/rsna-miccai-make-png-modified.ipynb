{
 "cells": [
  {
   "cell_type": "markdown",
   "metadata": {},
   "source": [
    "# Setup"
   ]
  },
  {
   "cell_type": "code",
   "execution_count": 2,
   "metadata": {
    "execution": {
     "iopub.execute_input": "2021-09-13T03:34:32.432028Z",
     "iopub.status.busy": "2021-09-13T03:34:32.431049Z",
     "iopub.status.idle": "2021-09-13T03:34:40.512414Z",
     "shell.execute_reply": "2021-09-13T03:34:40.511389Z",
     "shell.execute_reply.started": "2021-09-13T03:34:32.431931Z"
    }
   },
   "outputs": [],
   "source": [
    "!pip install pydicom -q"
   ]
  },
  {
   "cell_type": "code",
   "execution_count": 3,
   "metadata": {
    "execution": {
     "iopub.execute_input": "2021-09-13T03:34:40.514696Z",
     "iopub.status.busy": "2021-09-13T03:34:40.514459Z",
     "iopub.status.idle": "2021-09-13T03:34:40.807955Z",
     "shell.execute_reply": "2021-09-13T03:34:40.807051Z",
     "shell.execute_reply.started": "2021-09-13T03:34:40.51467Z"
    }
   },
   "outputs": [],
   "source": [
    "# General imports.\n",
    "import os\n",
    "import pydicom\n",
    "\n",
    "import cv2\n",
    "import pandas as pd\n",
    "import numpy as np\n",
    "import matplotlib as mpl\n",
    "import matplotlib.pyplot as plt\n",
    "\n",
    "# Specific imports.\n",
    "from glob import glob\n",
    "from tqdm import tqdm\n",
    "from multiprocessing import Pool\n",
    "from pydicom.pixel_data_handlers.util import apply_voi_lut"
   ]
  },
  {
   "cell_type": "markdown",
   "metadata": {},
   "source": [
    "# Define a LUT Function"
   ]
  },
  {
   "cell_type": "code",
   "execution_count": 4,
   "metadata": {
    "execution": {
     "iopub.execute_input": "2021-09-13T03:34:40.809404Z",
     "iopub.status.busy": "2021-09-13T03:34:40.809086Z",
     "iopub.status.idle": "2021-09-13T03:34:40.816496Z",
     "shell.execute_reply": "2021-09-13T03:34:40.8159Z",
     "shell.execute_reply.started": "2021-09-13T03:34:40.809375Z"
    }
   },
   "outputs": [],
   "source": [
    "# Make a simple linear VOI LUT from the raw (stored) pixel data\n",
    "def make_lut(pixels, width, center, p_i):\n",
    "    \n",
    "    # Slope and Intercept set to 1 and 0 for MR. Get these from DICOM tags instead if using \n",
    "    # on a modality that requires them (CT, PT etc)\n",
    "    slope = 1.0\n",
    "    intercept = 0.0\n",
    "    min_pixel = int(np.amin(pixels))\n",
    "    max_pixel = int(np.amax(pixels))\n",
    "\n",
    "    # Make an empty array for the LUT the size of the pixel 'width' in the raw pixel data\n",
    "    lut = [0] * (max_pixel + 1)\n",
    "    \n",
    "    # Invert pixels and cent for MONOCHROME1. We invert the specified center so that \n",
    "    # increasing the center value makes the images brighter regardless of photometric intrepretation\n",
    "    invert = False\n",
    "    if p_i == \"MONOCHROME1\":\n",
    "        invert = True\n",
    "    else:\n",
    "        center = (max_pixel - min_pixel) - center\n",
    "        \n",
    "    # Loop through the pixels and calculate each LUT value\n",
    "    for pix_value in range(min_pixel, max_pixel):\n",
    "        lut_value = pix_value * slope + intercept\n",
    "        voi_value = (((lut_value - center) /  width + 0.5) * 255.0)\n",
    "        clamped_value = min(max(voi_value, 0), 255)\n",
    "        if invert:\n",
    "            lut[pix_value] = round(255 - clamped_value)\n",
    "        else:\n",
    "            lut[pix_value] = round(clamped_value)\n",
    "        \n",
    "    return lut"
   ]
  },
  {
   "cell_type": "code",
   "execution_count": 5,
   "metadata": {
    "execution": {
     "iopub.execute_input": "2021-09-13T03:34:40.817462Z",
     "iopub.status.busy": "2021-09-13T03:34:40.817255Z",
     "iopub.status.idle": "2021-09-13T03:34:40.82994Z",
     "shell.execute_reply": "2021-09-13T03:34:40.829114Z",
     "shell.execute_reply.started": "2021-09-13T03:34:40.817437Z"
    }
   },
   "outputs": [],
   "source": [
    "# Apply the LUT to a pixel array\n",
    "def apply_lut(pixels_in, lut):\n",
    "    pixels = pixels_in.flatten()\n",
    "    pixels_out = [0] * len(pixels)\n",
    "    for i in range(0, len(pixels)):\n",
    "        pixel = pixels[i]\n",
    "        if pixel > 0:\n",
    "            pixels_out[i] = int(lut[pixel])\n",
    "    return np.reshape(pixels_out, (pixels_in.shape[0],pixels_in.shape[1]))"
   ]
  },
  {
   "cell_type": "markdown",
   "metadata": {},
   "source": [
    "# Converting to PNGs and Extracting Meta DataFrames"
   ]
  },
  {
   "cell_type": "code",
   "execution_count": null,
   "metadata": {
    "execution": {
     "iopub.execute_input": "2021-09-13T03:34:40.832141Z",
     "iopub.status.busy": "2021-09-13T03:34:40.831896Z"
    }
   },
   "outputs": [
    {
     "name": "stderr",
     "output_type": "stream",
     "text": [
      "1675it [04:15,  3.39it/s]"
     ]
    }
   ],
   "source": [
    "# Data is here: https://www.kaggle.com/c/rsna-miccai-brain-tumor-radiogenomic-classification/data.\n",
    "\n",
    "mode = \"train\"\n",
    "meta_df_name = f\"{mode}_meta\"\n",
    "png_image_path_root = \"../../input/images/\"\n",
    "comp_data_root = \"../../input/rsna-miccai-brain-tumor-radiogenomic-classification/\"\n",
    "meta_df_root = \"../../input/\"\n",
    "\n",
    "os.makedirs(png_image_path_root, exist_ok=True)\n",
    "os.makedirs(meta_df_root, exist_ok=True)\n",
    "\n",
    "class ME:\n",
    "    def __init__(self, file_path, ImageID, PatientID, mpMRI_type):\n",
    "        self.file_path = file_path\n",
    "        self.ImageID = ImageID\n",
    "        self.PatientID = PatientID\n",
    "        self.mpMRI_type = mpMRI_type\n",
    "\n",
    "        \n",
    "def dicom2image(ele):\n",
    "    dcm_file = pydicom.dcmread(ele.file_path)\n",
    "    raw_pixels = dcm_file.pixel_array\n",
    "    \n",
    "    # Calculate the width and center of the pixels to make a LUT\n",
    "    auto_lut_window_width = np.max(raw_pixels)\n",
    "    auto_lut_window_center = (np.max(raw_pixels) - np.min(raw_pixels)) / 2 + np.min(raw_pixels)\n",
    "    \n",
    "    lut = make_lut(raw_pixels, auto_lut_window_width, auto_lut_window_center, dcm_file.PhotometricInterpretation)\n",
    "    data = apply_lut(raw_pixels, lut)\n",
    "    \n",
    "    PatientID = dcm_file.PatientID\n",
    "    StudyInstanceUID = dcm_file.StudyInstanceUID\n",
    "    SeriesInstanceUID = dcm_file.SeriesInstanceUID\n",
    "    SeriesDescription = dcm_file.SeriesDescription  # This is the mpMRI scan type.\n",
    "\n",
    "    assert PatientID == ele.PatientID, \"DCM Image patientid and file path patientid do not match!\"\n",
    "    assert SeriesDescription == ele.mpMRI_type, \"SeriesDescription and mpMRI scan type do not match!\"\n",
    "\n",
    "#     data = apply_voi_lut(dcm_file.pixel_array, dcm_file)\n",
    "\n",
    "#     if dcm_file.PhotometricInterpretation == \"MONOCHROME1\":\n",
    "#         data = np.amax(data) - data\n",
    "\n",
    "#     data = data - np.min(data)\n",
    "#     data = data / np.max(data)\n",
    "#     data = (data * 255).astype(np.uint8)\n",
    "\n",
    "    image_path = os.path.join(png_image_path_root, f\"{PatientID}_{SeriesDescription}_{ele.ImageID}.png\")\n",
    "    cv2.imwrite(image_path, data)\n",
    "    \n",
    "    return [ele.file_path, image_path, PatientID, SeriesDescription, ele.ImageID, StudyInstanceUID, SeriesInstanceUID]\n",
    "\n",
    "images_meta = []\n",
    "for root, dirs, files in tqdm(os.walk(os.path.join(comp_data_root, f\"{mode}/\"))):\n",
    "    if len(files) != 0 and (\".dcm\" in files[0] or \".dicom\" in files[0]):\n",
    "        split = root.split(\"/\")\n",
    "        patientid = split[-2]\n",
    "        mpMRI_type = split[-1]\n",
    "        for file in files:\n",
    "            full_path = os.path.join(root, file)\n",
    "            ImageID = file.split(\".\")[0]  # Get the image file name.\n",
    "            \n",
    "            dcm_file = pydicom.read_file(full_path)\n",
    "            PatientID = dcm_file.PatientID\n",
    "            SeriesDescription = dcm_file.SeriesDescription  # This is the mpMRI scan type.\n",
    "            \n",
    "            images_meta.append(ME(full_path, ImageID, PatientID, SeriesDescription))\n",
    "    \n",
    "p = Pool(16)\n",
    "results = p.map(func=dicom2image, iterable=images_meta)\n",
    "meta_df = pd.DataFrame(\n",
    "        data=np.array(results), \n",
    "        columns=[\"dicom_filepath\", \"png_filepath\", \"PatientID\", \"SeriesDescription\", \"ImageID\", \"StudyInstanceUID\", \"SeriesInstanceUID\"])\n",
    "\n",
    "# This part is for when the PatientIDs are turned into ints (for some weird reason).\n",
    "patientids = [x.split(\"/\")[-3] for x in meta_df.dicom_filepath.values]\n",
    "meta_df.PatientID = patientids\n",
    "\n",
    "meta_df.to_csv(os.path.join(meta_df_root, f\"{meta_df_name}_mod.csv\"), index=False)"
   ]
  },
  {
   "cell_type": "code",
   "execution_count": null,
   "metadata": {},
   "outputs": [],
   "source": [
    "!zip ./rsna_miccai_pngs.zip ./images/"
   ]
  },
  {
   "cell_type": "code",
   "execution_count": null,
   "metadata": {},
   "outputs": [],
   "source": [
    "from IPython.display import FileLink, FileLinks\n",
    "FileLink(\"train_meta_mod.csv\")"
   ]
  },
  {
   "cell_type": "markdown",
   "metadata": {},
   "source": [
    "# Sanity Check and Small Test Case"
   ]
  },
  {
   "cell_type": "code",
   "execution_count": null,
   "metadata": {},
   "outputs": [],
   "source": [
    "# Ref: https://www.kaggle.com/c/rsna-miccai-brain-tumor-radiogenomic-classification/discussion/271524.\n",
    "\n",
    "p = glob(r\"../input/rsna-miccai-brain-tumor-radiogenomic-classification/train/00998/FLAIR/*\")"
   ]
  },
  {
   "cell_type": "code",
   "execution_count": null,
   "metadata": {},
   "outputs": [],
   "source": [
    "plt.imshow(pydicom.dcmread(p[10]).pixel_array)"
   ]
  },
  {
   "cell_type": "code",
   "execution_count": null,
   "metadata": {},
   "outputs": [],
   "source": [
    "a = pydicom.dcmread(p[10]).pixel_array"
   ]
  },
  {
   "cell_type": "code",
   "execution_count": null,
   "metadata": {},
   "outputs": [],
   "source": [
    "# Calculate the width and center of the pixels to make a LUT\n",
    "auto_lut_window_width = np.max(a)\n",
    "auto_lut_window_center = (np.max(a) - np.min(a)) / 2 + np.min(a)\n",
    "    \n",
    "lut = make_lut(a, auto_lut_window_width, auto_lut_window_center, pydicom.dcmread(p[10]).PhotometricInterpretation)\n",
    "image_autolut = apply_lut(a, lut)"
   ]
  },
  {
   "cell_type": "code",
   "execution_count": null,
   "metadata": {},
   "outputs": [],
   "source": [
    "plt.imshow(image_autolut, cmap=mpl.cm.bone)"
   ]
  },
  {
   "cell_type": "code",
   "execution_count": null,
   "metadata": {},
   "outputs": [],
   "source": [
    "plt.imshow(image_autolut/255.0, cmap=mpl.cm.bone)"
   ]
  },
  {
   "cell_type": "code",
   "execution_count": null,
   "metadata": {},
   "outputs": [],
   "source": [
    "data = apply_voi_lut(pydicom.dcmread(p[10]).pixel_array, pydicom.dcmread(p[10]))\n",
    "\n",
    "if pydicom.dcmread(p[10]).PhotometricInterpretation == \"MONOCHROME1\":\n",
    "    data = np.amax(data) - data\n",
    "\n",
    "data = data - np.min(data)\n",
    "data = data / np.max(data)\n",
    "data = (data * 255).astype(np.uint8)"
   ]
  },
  {
   "cell_type": "code",
   "execution_count": null,
   "metadata": {},
   "outputs": [],
   "source": [
    "plt.imshow(data, cmap=mpl.cm.bone)"
   ]
  },
  {
   "cell_type": "code",
   "execution_count": null,
   "metadata": {},
   "outputs": [],
   "source": [
    "plt.imshow(data/255.0, cmap=mpl.cm.bone)"
   ]
  },
  {
   "cell_type": "code",
   "execution_count": null,
   "metadata": {},
   "outputs": [],
   "source": []
  }
 ],
 "metadata": {
  "kernelspec": {
   "display_name": "Python 3",
   "language": "python",
   "name": "python3"
  },
  "language_info": {
   "codemirror_mode": {
    "name": "ipython",
    "version": 3
   },
   "file_extension": ".py",
   "mimetype": "text/x-python",
   "name": "python",
   "nbconvert_exporter": "python",
   "pygments_lexer": "ipython3",
   "version": "3.8.8"
  }
 },
 "nbformat": 4,
 "nbformat_minor": 4
}
