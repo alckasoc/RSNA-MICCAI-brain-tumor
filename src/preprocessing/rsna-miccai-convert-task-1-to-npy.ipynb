{
 "cells": [
  {
   "cell_type": "markdown",
   "metadata": {},
   "source": [
    "# Setup"
   ]
  },
  {
   "cell_type": "code",
   "execution_count": 20,
   "metadata": {
    "execution": {
     "iopub.execute_input": "2021-09-22T03:59:02.121244Z",
     "iopub.status.busy": "2021-09-22T03:59:02.120861Z",
     "iopub.status.idle": "2021-09-22T03:59:02.801043Z",
     "shell.execute_reply": "2021-09-22T03:59:02.799705Z",
     "shell.execute_reply.started": "2021-09-22T03:59:02.121133Z"
    }
   },
   "outputs": [],
   "source": [
    "import os\n",
    "import PIL\n",
    "import cv2\n",
    "import tarfile\n",
    "from tqdm import tqdm\n",
    "import numpy as np\n",
    "import pydicom\n",
    "import pandas as pd\n",
    "from glob import glob\n",
    "import nibabel as nib\n",
    "from PIL import Image\n",
    "import matplotlib.pyplot as plt\n",
    "from scipy import ndimage as ndi"
   ]
  },
  {
   "cell_type": "markdown",
   "metadata": {},
   "source": [
    "# Extracting Data"
   ]
  },
  {
   "cell_type": "code",
   "execution_count": 2,
   "metadata": {
    "execution": {
     "iopub.execute_input": "2021-09-22T03:59:02.803112Z",
     "iopub.status.busy": "2021-09-22T03:59:02.802839Z",
     "iopub.status.idle": "2021-09-22T04:01:50.027022Z",
     "shell.execute_reply": "2021-09-22T04:01:50.025541Z",
     "shell.execute_reply.started": "2021-09-22T03:59:02.803081Z"
    }
   },
   "outputs": [
    {
     "name": "stdout",
     "output_type": "stream",
     "text": [
      "... Extracting Main Task1 Training Files (3-5 Minutes) ...\n",
      "\n"
     ]
    }
   ],
   "source": [
    "# Extract Main Training Data\n",
    "print(\"... Extracting Main Task1 Training Files (3-5 Minutes) ...\\n\")\n",
    "tar = tarfile.open(\"../../input/zips/BraTS2021_Training_Data.tar\")\n",
    "tar.extractall(\"../../input/zips/task_1_zips/\")\n",
    "tar.close()"
   ]
  },
  {
   "cell_type": "code",
   "execution_count": 14,
   "metadata": {},
   "outputs": [],
   "source": [
    "# !del C:\\Users\\alcka\\F_drive\\RSNA-MICCAI-brain-tumor\\input\\zips\\task_1_zips\\.DS_STORE"
   ]
  },
  {
   "cell_type": "code",
   "execution_count": 15,
   "metadata": {
    "execution": {
     "iopub.execute_input": "2021-09-22T04:44:36.216327Z",
     "iopub.status.busy": "2021-09-22T04:44:36.215906Z",
     "iopub.status.idle": "2021-09-22T04:44:36.243879Z",
     "shell.execute_reply": "2021-09-22T04:44:36.242963Z",
     "shell.execute_reply.started": "2021-09-22T04:44:36.216289Z"
    }
   },
   "outputs": [],
   "source": [
    "all_dirs = []\n",
    "types = [\"flair\", \"t1\", \"t1ce\", \"t2\"]\n",
    "root = r\"C:\\Users\\alcka\\F_drive\\RSNA-MICCAI-brain-tumor\\input\\zips\\task_1_zips\"\n",
    "\n",
    "for patient_id in os.listdir(root):\n",
    "    dir_dict = {}\n",
    "    patient_dir = os.path.join(root, patient_id)\n",
    "    for t in types:\n",
    "        patient_modality_dir = os.path.join(patient_dir, patient_id + f\"_{t}.nii.gz\")\n",
    "        dir_dict[t] = patient_modality_dir\n",
    "    dir_dict[\"segm\"] = os.path.join(patient_dir, patient_id + f\"_seg.nii.gz\")\n",
    "    all_dirs.append(dir_dict)"
   ]
  },
  {
   "cell_type": "markdown",
   "metadata": {},
   "source": [
    "# Saving to npy"
   ]
  },
  {
   "cell_type": "code",
   "execution_count": 16,
   "metadata": {
    "execution": {
     "iopub.execute_input": "2021-09-22T05:01:52.814567Z",
     "iopub.status.busy": "2021-09-22T05:01:52.814173Z",
     "iopub.status.idle": "2021-09-22T05:01:52.820245Z",
     "shell.execute_reply": "2021-09-22T05:01:52.819298Z",
     "shell.execute_reply.started": "2021-09-22T05:01:52.814528Z"
    }
   },
   "outputs": [],
   "source": [
    "save_root = r\"C:\\Users\\alcka\\F_drive\\RSNA-MICCAI-brain-tumor\\input\\task_1_data\"\n",
    "os.makedirs(save_root, exist_ok=True)"
   ]
  },
  {
   "cell_type": "code",
   "execution_count": 21,
   "metadata": {
    "execution": {
     "iopub.execute_input": "2021-09-22T05:04:14.424829Z",
     "iopub.status.busy": "2021-09-22T05:04:14.424333Z",
     "iopub.status.idle": "2021-09-22T05:05:38.653929Z",
     "shell.execute_reply": "2021-09-22T05:05:38.652358Z",
     "shell.execute_reply.started": "2021-09-22T05:04:14.424775Z"
    }
   },
   "outputs": [
    {
     "name": "stderr",
     "output_type": "stream",
     "text": [
      "100%|██████████████████████████████████████████████████████████████████████████████| 1251/1251 [56:53<00:00,  2.73s/it]\n"
     ]
    }
   ],
   "source": [
    "for patient_dict in tqdm(all_dirs):\n",
    "    flair_path = patient_dict[\"flair\"]\n",
    "    t1_path = patient_dict[\"t1\"]\n",
    "    t1ce_path = patient_dict[\"t1ce\"]\n",
    "    t2_path = patient_dict[\"t2\"]\n",
    "    segm_path = patient_dict[\"segm\"]\n",
    "    \n",
    "    patientid = flair_path.split(\"\\\\\")[-2]\n",
    "    \n",
    "    flair_image = nib.load(flair_path).get_fdata().transpose([2, 0, 1])\n",
    "    t1_image = nib.load(t1_path).get_fdata().transpose([2, 0, 1])\n",
    "    t1ce_image = nib.load(t1ce_path).get_fdata().transpose([2, 0, 1])\n",
    "    t2_image = nib.load(t2_path).get_fdata().transpose([2, 0, 1])\n",
    "    segm_image = nib.load(segm_path).get_fdata().transpose([2, 0, 1])\n",
    "    \n",
    "    np.save(os.path.join(save_root, patientid + \"_flair\"), flair_image)\n",
    "    np.save(os.path.join(save_root, patientid + \"_t1\"), t1_image)\n",
    "    np.save(os.path.join(save_root, patientid + \"_t1ce\"), t1ce_image)\n",
    "    np.save(os.path.join(save_root, patientid + \"_t2\"), t2_image)\n",
    "    np.save(os.path.join(save_root, patientid + \"_segm\"), segm_image)"
   ]
  },
  {
   "cell_type": "code",
   "execution_count": null,
   "metadata": {},
   "outputs": [],
   "source": []
  }
 ],
 "metadata": {
  "kernelspec": {
   "display_name": "Python 3",
   "language": "python",
   "name": "python3"
  },
  "language_info": {
   "codemirror_mode": {
    "name": "ipython",
    "version": 3
   },
   "file_extension": ".py",
   "mimetype": "text/x-python",
   "name": "python",
   "nbconvert_exporter": "python",
   "pygments_lexer": "ipython3",
   "version": "3.8.8"
  }
 },
 "nbformat": 4,
 "nbformat_minor": 4
}
