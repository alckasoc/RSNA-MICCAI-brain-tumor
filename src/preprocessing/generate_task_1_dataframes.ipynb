{
 "cells": [
  {
   "cell_type": "markdown",
   "id": "610b9d33",
   "metadata": {},
   "source": [
    "# Setup"
   ]
  },
  {
   "cell_type": "code",
   "execution_count": 14,
   "id": "edf22665",
   "metadata": {},
   "outputs": [],
   "source": [
    "# General imports.\n",
    "import os\n",
    "\n",
    "import numpy as np\n",
    "import pandas as pd\n",
    "\n",
    "# Specific imports."
   ]
  },
  {
   "cell_type": "markdown",
   "id": "64228f4d",
   "metadata": {},
   "source": [
    "# Getting Patient IDs"
   ]
  },
  {
   "cell_type": "code",
   "execution_count": 17,
   "id": "da5f3b8f",
   "metadata": {},
   "outputs": [],
   "source": [
    "root = r\"C:\\Users\\alcka\\F_drive\\RSNA-MICCAI-brain-tumor\\input\\task_1_data\"\n",
    "all_patientids = []\n",
    "for npy_file in os.listdir(root):\n",
    "    patientid = npy_file.split(\"_\")[1]\n",
    "    all_patientids.append(patientid)\n",
    "    \n",
    "all_patientids = pd.Series(all_patientids).unique()"
   ]
  },
  {
   "cell_type": "markdown",
   "id": "51680c03",
   "metadata": {},
   "source": [
    "# Creating Meta Data CSV"
   ]
  },
  {
   "cell_type": "code",
   "execution_count": 39,
   "id": "d2e684fd",
   "metadata": {},
   "outputs": [],
   "source": [
    "types = [\"flair\", \"t1\", \"t1ce\", \"t2\"]\n",
    "all_paths = []\n",
    "patientids = []\n",
    "modalities = []\n",
    "for patientid in all_patientids:\n",
    "    for modality in types:\n",
    "        p = os.path.join(root, f\"BraTS2021_{patientid}_{modality}.npy\")\n",
    "        all_paths.append(p)\n",
    "        patientids.append(patientid)\n",
    "        modalities.append(modality)\n",
    "meta_df = pd.DataFrame({\n",
    "    \"full_path\": all_paths,\n",
    "    \"patientid\": patientids,\n",
    "    \"modality\": modalities\n",
    "})"
   ]
  },
  {
   "cell_type": "code",
   "execution_count": 40,
   "id": "e318c2b4",
   "metadata": {},
   "outputs": [
    {
     "data": {
      "text/html": [
       "<div>\n",
       "<style scoped>\n",
       "    .dataframe tbody tr th:only-of-type {\n",
       "        vertical-align: middle;\n",
       "    }\n",
       "\n",
       "    .dataframe tbody tr th {\n",
       "        vertical-align: top;\n",
       "    }\n",
       "\n",
       "    .dataframe thead th {\n",
       "        text-align: right;\n",
       "    }\n",
       "</style>\n",
       "<table border=\"1\" class=\"dataframe\">\n",
       "  <thead>\n",
       "    <tr style=\"text-align: right;\">\n",
       "      <th></th>\n",
       "      <th>full_path</th>\n",
       "      <th>patientid</th>\n",
       "      <th>modality</th>\n",
       "    </tr>\n",
       "  </thead>\n",
       "  <tbody>\n",
       "    <tr>\n",
       "      <th>0</th>\n",
       "      <td>C:\\Users\\alcka\\F_drive\\RSNA-MICCAI-brain-tumor...</td>\n",
       "      <td>00000</td>\n",
       "      <td>flair</td>\n",
       "    </tr>\n",
       "    <tr>\n",
       "      <th>1</th>\n",
       "      <td>C:\\Users\\alcka\\F_drive\\RSNA-MICCAI-brain-tumor...</td>\n",
       "      <td>00000</td>\n",
       "      <td>t1</td>\n",
       "    </tr>\n",
       "    <tr>\n",
       "      <th>2</th>\n",
       "      <td>C:\\Users\\alcka\\F_drive\\RSNA-MICCAI-brain-tumor...</td>\n",
       "      <td>00000</td>\n",
       "      <td>t1ce</td>\n",
       "    </tr>\n",
       "    <tr>\n",
       "      <th>3</th>\n",
       "      <td>C:\\Users\\alcka\\F_drive\\RSNA-MICCAI-brain-tumor...</td>\n",
       "      <td>00000</td>\n",
       "      <td>t2</td>\n",
       "    </tr>\n",
       "    <tr>\n",
       "      <th>4</th>\n",
       "      <td>C:\\Users\\alcka\\F_drive\\RSNA-MICCAI-brain-tumor...</td>\n",
       "      <td>00002</td>\n",
       "      <td>flair</td>\n",
       "    </tr>\n",
       "    <tr>\n",
       "      <th>...</th>\n",
       "      <td>...</td>\n",
       "      <td>...</td>\n",
       "      <td>...</td>\n",
       "    </tr>\n",
       "    <tr>\n",
       "      <th>4999</th>\n",
       "      <td>C:\\Users\\alcka\\F_drive\\RSNA-MICCAI-brain-tumor...</td>\n",
       "      <td>01665</td>\n",
       "      <td>t2</td>\n",
       "    </tr>\n",
       "    <tr>\n",
       "      <th>5000</th>\n",
       "      <td>C:\\Users\\alcka\\F_drive\\RSNA-MICCAI-brain-tumor...</td>\n",
       "      <td>01666</td>\n",
       "      <td>flair</td>\n",
       "    </tr>\n",
       "    <tr>\n",
       "      <th>5001</th>\n",
       "      <td>C:\\Users\\alcka\\F_drive\\RSNA-MICCAI-brain-tumor...</td>\n",
       "      <td>01666</td>\n",
       "      <td>t1</td>\n",
       "    </tr>\n",
       "    <tr>\n",
       "      <th>5002</th>\n",
       "      <td>C:\\Users\\alcka\\F_drive\\RSNA-MICCAI-brain-tumor...</td>\n",
       "      <td>01666</td>\n",
       "      <td>t1ce</td>\n",
       "    </tr>\n",
       "    <tr>\n",
       "      <th>5003</th>\n",
       "      <td>C:\\Users\\alcka\\F_drive\\RSNA-MICCAI-brain-tumor...</td>\n",
       "      <td>01666</td>\n",
       "      <td>t2</td>\n",
       "    </tr>\n",
       "  </tbody>\n",
       "</table>\n",
       "<p>5004 rows × 3 columns</p>\n",
       "</div>"
      ],
      "text/plain": [
       "                                              full_path patientid modality\n",
       "0     C:\\Users\\alcka\\F_drive\\RSNA-MICCAI-brain-tumor...     00000    flair\n",
       "1     C:\\Users\\alcka\\F_drive\\RSNA-MICCAI-brain-tumor...     00000       t1\n",
       "2     C:\\Users\\alcka\\F_drive\\RSNA-MICCAI-brain-tumor...     00000     t1ce\n",
       "3     C:\\Users\\alcka\\F_drive\\RSNA-MICCAI-brain-tumor...     00000       t2\n",
       "4     C:\\Users\\alcka\\F_drive\\RSNA-MICCAI-brain-tumor...     00002    flair\n",
       "...                                                 ...       ...      ...\n",
       "4999  C:\\Users\\alcka\\F_drive\\RSNA-MICCAI-brain-tumor...     01665       t2\n",
       "5000  C:\\Users\\alcka\\F_drive\\RSNA-MICCAI-brain-tumor...     01666    flair\n",
       "5001  C:\\Users\\alcka\\F_drive\\RSNA-MICCAI-brain-tumor...     01666       t1\n",
       "5002  C:\\Users\\alcka\\F_drive\\RSNA-MICCAI-brain-tumor...     01666     t1ce\n",
       "5003  C:\\Users\\alcka\\F_drive\\RSNA-MICCAI-brain-tumor...     01666       t2\n",
       "\n",
       "[5004 rows x 3 columns]"
      ]
     },
     "execution_count": 40,
     "metadata": {},
     "output_type": "execute_result"
    }
   ],
   "source": [
    "meta_df"
   ]
  },
  {
   "cell_type": "code",
   "execution_count": 52,
   "id": "03a91abf",
   "metadata": {},
   "outputs": [],
   "source": [
    "save_root = r\"C:/Users/alcka/F_drive/RSNA-MICCAI-brain-tumor/input/\"\n",
    "os.makedirs(os.path.join(save_root, \"task_1_csv\"), exist_ok=True)\n",
    "\n",
    "meta_df.to_csv(os.path.join(save_root, \"task_1_csv/task_1_data_meta.csv\"))"
   ]
  },
  {
   "cell_type": "markdown",
   "id": "039af5ed",
   "metadata": {},
   "source": [
    "# Creating Label CSV"
   ]
  },
  {
   "cell_type": "code",
   "execution_count": 43,
   "id": "72ce29ea",
   "metadata": {},
   "outputs": [],
   "source": [
    "all_paths = []\n",
    "patientids = []\n",
    "for patientid in all_patientids:\n",
    "    p = os.path.join(root, f\"BraTS2021_{patientid}_segm.npy\")\n",
    "    all_paths.append(p)\n",
    "    patientids.append(patientid)\n",
    "train_label_df = pd.DataFrame({\n",
    "    \"patientid\": patientids,\n",
    "    \"full_path\": all_paths\n",
    "})"
   ]
  },
  {
   "cell_type": "code",
   "execution_count": 44,
   "id": "e71053d7",
   "metadata": {},
   "outputs": [
    {
     "data": {
      "text/html": [
       "<div>\n",
       "<style scoped>\n",
       "    .dataframe tbody tr th:only-of-type {\n",
       "        vertical-align: middle;\n",
       "    }\n",
       "\n",
       "    .dataframe tbody tr th {\n",
       "        vertical-align: top;\n",
       "    }\n",
       "\n",
       "    .dataframe thead th {\n",
       "        text-align: right;\n",
       "    }\n",
       "</style>\n",
       "<table border=\"1\" class=\"dataframe\">\n",
       "  <thead>\n",
       "    <tr style=\"text-align: right;\">\n",
       "      <th></th>\n",
       "      <th>patientid</th>\n",
       "      <th>full_path</th>\n",
       "    </tr>\n",
       "  </thead>\n",
       "  <tbody>\n",
       "    <tr>\n",
       "      <th>0</th>\n",
       "      <td>00000</td>\n",
       "      <td>C:\\Users\\alcka\\F_drive\\RSNA-MICCAI-brain-tumor...</td>\n",
       "    </tr>\n",
       "    <tr>\n",
       "      <th>1</th>\n",
       "      <td>00002</td>\n",
       "      <td>C:\\Users\\alcka\\F_drive\\RSNA-MICCAI-brain-tumor...</td>\n",
       "    </tr>\n",
       "    <tr>\n",
       "      <th>2</th>\n",
       "      <td>00003</td>\n",
       "      <td>C:\\Users\\alcka\\F_drive\\RSNA-MICCAI-brain-tumor...</td>\n",
       "    </tr>\n",
       "    <tr>\n",
       "      <th>3</th>\n",
       "      <td>00005</td>\n",
       "      <td>C:\\Users\\alcka\\F_drive\\RSNA-MICCAI-brain-tumor...</td>\n",
       "    </tr>\n",
       "    <tr>\n",
       "      <th>4</th>\n",
       "      <td>00006</td>\n",
       "      <td>C:\\Users\\alcka\\F_drive\\RSNA-MICCAI-brain-tumor...</td>\n",
       "    </tr>\n",
       "    <tr>\n",
       "      <th>...</th>\n",
       "      <td>...</td>\n",
       "      <td>...</td>\n",
       "    </tr>\n",
       "    <tr>\n",
       "      <th>1246</th>\n",
       "      <td>01662</td>\n",
       "      <td>C:\\Users\\alcka\\F_drive\\RSNA-MICCAI-brain-tumor...</td>\n",
       "    </tr>\n",
       "    <tr>\n",
       "      <th>1247</th>\n",
       "      <td>01663</td>\n",
       "      <td>C:\\Users\\alcka\\F_drive\\RSNA-MICCAI-brain-tumor...</td>\n",
       "    </tr>\n",
       "    <tr>\n",
       "      <th>1248</th>\n",
       "      <td>01664</td>\n",
       "      <td>C:\\Users\\alcka\\F_drive\\RSNA-MICCAI-brain-tumor...</td>\n",
       "    </tr>\n",
       "    <tr>\n",
       "      <th>1249</th>\n",
       "      <td>01665</td>\n",
       "      <td>C:\\Users\\alcka\\F_drive\\RSNA-MICCAI-brain-tumor...</td>\n",
       "    </tr>\n",
       "    <tr>\n",
       "      <th>1250</th>\n",
       "      <td>01666</td>\n",
       "      <td>C:\\Users\\alcka\\F_drive\\RSNA-MICCAI-brain-tumor...</td>\n",
       "    </tr>\n",
       "  </tbody>\n",
       "</table>\n",
       "<p>1251 rows × 2 columns</p>\n",
       "</div>"
      ],
      "text/plain": [
       "     patientid                                          full_path\n",
       "0        00000  C:\\Users\\alcka\\F_drive\\RSNA-MICCAI-brain-tumor...\n",
       "1        00002  C:\\Users\\alcka\\F_drive\\RSNA-MICCAI-brain-tumor...\n",
       "2        00003  C:\\Users\\alcka\\F_drive\\RSNA-MICCAI-brain-tumor...\n",
       "3        00005  C:\\Users\\alcka\\F_drive\\RSNA-MICCAI-brain-tumor...\n",
       "4        00006  C:\\Users\\alcka\\F_drive\\RSNA-MICCAI-brain-tumor...\n",
       "...        ...                                                ...\n",
       "1246     01662  C:\\Users\\alcka\\F_drive\\RSNA-MICCAI-brain-tumor...\n",
       "1247     01663  C:\\Users\\alcka\\F_drive\\RSNA-MICCAI-brain-tumor...\n",
       "1248     01664  C:\\Users\\alcka\\F_drive\\RSNA-MICCAI-brain-tumor...\n",
       "1249     01665  C:\\Users\\alcka\\F_drive\\RSNA-MICCAI-brain-tumor...\n",
       "1250     01666  C:\\Users\\alcka\\F_drive\\RSNA-MICCAI-brain-tumor...\n",
       "\n",
       "[1251 rows x 2 columns]"
      ]
     },
     "execution_count": 44,
     "metadata": {},
     "output_type": "execute_result"
    }
   ],
   "source": [
    "train_label_df"
   ]
  },
  {
   "cell_type": "code",
   "execution_count": 53,
   "id": "a27be896",
   "metadata": {},
   "outputs": [],
   "source": [
    "train_label_df.to_csv(os.path.join(save_root, \"task_1_csv/task_1_train_labels.csv\"))"
   ]
  },
  {
   "cell_type": "code",
   "execution_count": null,
   "id": "a85ca9eb",
   "metadata": {},
   "outputs": [],
   "source": []
  }
 ],
 "metadata": {
  "kernelspec": {
   "display_name": "Python 3",
   "language": "python",
   "name": "python3"
  },
  "language_info": {
   "codemirror_mode": {
    "name": "ipython",
    "version": 3
   },
   "file_extension": ".py",
   "mimetype": "text/x-python",
   "name": "python",
   "nbconvert_exporter": "python",
   "pygments_lexer": "ipython3",
   "version": "3.8.8"
  }
 },
 "nbformat": 4,
 "nbformat_minor": 5
}
