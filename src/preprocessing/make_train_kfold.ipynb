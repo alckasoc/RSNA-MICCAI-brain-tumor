{
  "nbformat": 4,
  "nbformat_minor": 0,
  "metadata": {
    "colab": {
      "name": "make_train_kfold.ipynb",
      "provenance": []
    },
    "kernelspec": {
      "name": "python3",
      "display_name": "Python 3"
    },
    "language_info": {
      "name": "python"
    }
  },
  "cells": [
    {
      "cell_type": "markdown",
      "metadata": {
        "id": "peckhrxoQeYJ"
      },
      "source": [
        "# Setup"
      ]
    },
    {
      "cell_type": "code",
      "metadata": {
        "colab": {
          "resources": {
            "http://localhost:8080/nbextensions/google.colab/files.js": {
              "data": "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",
              "ok": true,
              "headers": [
                [
                  "content-type",
                  "application/javascript"
                ]
              ],
              "status": 200,
              "status_text": ""
            }
          },
          "base_uri": "https://localhost:8080/",
          "height": 174
        },
        "id": "EwgUzhKUO4uw",
        "outputId": "e338032d-e6db-44fd-bbde-e0e6e7ae43c3"
      },
      "source": [
        "from google.colab import drive\n",
        "drive.mount('/content/gdrive')\n",
        "\n",
        "from google.colab import files\n",
        "files.upload()  # Upload your kaggle.json here.\n",
        "\n",
        "!pip install -q kaggle\n",
        "!mkdir -p ~/.kaggle\n",
        "!cp kaggle.json ~/.kaggle/\n",
        "!chmod 600 /root/.kaggle/kaggle.json\n",
        "\n",
        "!mkdir rsna-miccai-png\n",
        "%cd rsna-miccai-png/\n",
        "!kaggle datasets download -d jonathanbesomi/rsna-miccai-png\n",
        "!unzip -q rsna-miccai-png.zip\n",
        "!rm rsna-miccai-png.zip\n",
        "%cd ../"
      ],
      "execution_count": 1,
      "outputs": [
        {
          "output_type": "stream",
          "name": "stdout",
          "text": [
            "Mounted at /content/gdrive\n"
          ]
        },
        {
          "output_type": "display_data",
          "data": {
            "text/html": [
              "\n",
              "     <input type=\"file\" id=\"files-5106506d-b941-49f0-8063-3e2da400f572\" name=\"files[]\" multiple disabled\n",
              "        style=\"border:none\" />\n",
              "     <output id=\"result-5106506d-b941-49f0-8063-3e2da400f572\">\n",
              "      Upload widget is only available when the cell has been executed in the\n",
              "      current browser session. Please rerun this cell to enable.\n",
              "      </output>\n",
              "      <script src=\"/nbextensions/google.colab/files.js\"></script> "
            ],
            "text/plain": [
              "<IPython.core.display.HTML object>"
            ]
          },
          "metadata": {}
        },
        {
          "output_type": "stream",
          "name": "stdout",
          "text": [
            "Saving kaggle.json to kaggle.json\n",
            "/content/rsna-miccai-png\n",
            "Downloading rsna-miccai-png.zip to /content/rsna-miccai-png\n",
            "100% 5.08G/5.08G [00:39<00:00, 151MB/s]\n",
            "100% 5.08G/5.08G [00:39<00:00, 137MB/s]\n",
            "/content\n"
          ]
        }
      ]
    },
    {
      "cell_type": "code",
      "metadata": {
        "id": "7Gj7pZg6P4rh"
      },
      "source": [
        "# General imports.\n",
        "import os\n",
        "import random\n",
        "\n",
        "import numpy as np\n",
        "import pandas as pd\n",
        "import torch\n",
        "\n",
        "# Specific imports.\n",
        "\n",
        "\n",
        "from sklearn.model_selection import GroupKFold\n",
        "from sklearn.model_selection import StratifiedKFold"
      ],
      "execution_count": 42,
      "outputs": []
    },
    {
      "cell_type": "markdown",
      "metadata": {
        "id": "JpeROzEd76N7"
      },
      "source": [
        "# Utility Functions"
      ]
    },
    {
      "cell_type": "code",
      "metadata": {
        "id": "NiXKAMbl75f0"
      },
      "source": [
        "def seed_everything(seed=123):\n",
        "  random.seed(seed)\n",
        "  os.environ['PYTHONHASHSEED'] = str(seed)\n",
        "  np.random.seed(seed)\n",
        "  torch.manual_seed(seed)\n",
        "  torch.cuda.manual_seed(seed)"
      ],
      "execution_count": 20,
      "outputs": []
    },
    {
      "cell_type": "markdown",
      "metadata": {
        "id": "SRTXvkOevQTf"
      },
      "source": [
        "# Sanity Checks"
      ]
    },
    {
      "cell_type": "code",
      "metadata": {
        "id": "MTPO0FimvPoQ"
      },
      "source": [
        "train_meta = pd.read_csv(r\"/content/gdrive/MyDrive/Kaggle Competitions/RSNA-brain-tumor/train_meta.csv\")\n",
        "train_labels = pd.read_csv(r\"/content/gdrive/MyDrive/Kaggle Competitions/RSNA-brain-tumor/train_labels.csv\")\n",
        "train_patientids = os.listdir(r\"/content/rsna-miccai-png/train\")"
      ],
      "execution_count": 12,
      "outputs": []
    },
    {
      "cell_type": "code",
      "metadata": {
        "id": "bWltlm3Y19b3"
      },
      "source": [
        "print(train_meta.PatientID.nunique()), print(pd.Series(train_patientids).nunique())\n",
        "\n",
        "for x in train_labels.BraTS21ID.values:\n",
        "  if x not in train_meta.PatientID.unique():\n",
        "    print(\"X\")\n",
        "\n",
        "for x in train_labels.BraTS21ID.values:\n",
        "  if x not in pd.Series(train_patientids).unique().astype(np.int32):\n",
        "    print(\"Y\")"
      ],
      "execution_count": 13,
      "outputs": []
    },
    {
      "cell_type": "markdown",
      "metadata": {
        "id": "ePdz2Lk4Qi1-"
      },
      "source": [
        "# Refining Train Meta DataFrame"
      ]
    },
    {
      "cell_type": "code",
      "metadata": {
        "id": "6gYoChlwv4GQ"
      },
      "source": [
        "train_df = pd.merge(train_meta, train_labels, left_on=\"PatientID\", right_on=\"BraTS21ID\").drop(columns=[\"BraTS21ID\"])"
      ],
      "execution_count": 43,
      "outputs": []
    },
    {
      "cell_type": "code",
      "metadata": {
        "id": "flge1-xn2EGG"
      },
      "source": [
        "train_df_images = train_df.png_filepath.apply(lambda x: x.split(\"/\")[-1])\n",
        "train_df_png_images = []\n",
        "for root, dirs, files in os.walk(r\"/content/rsna-miccai-png/train\"):\n",
        "  if len(files) != 0 and (\".png\" in files[0]):\n",
        "    split = root.split(\"/\")\n",
        "    patientid = split[-2]\n",
        "    mpMRI_type = split[-1]\n",
        "    for file in files:\n",
        "      train_df_png_images.append(f\"{patientid}_{mpMRI_type}_{file}\")"
      ],
      "execution_count": 44,
      "outputs": []
    },
    {
      "cell_type": "code",
      "metadata": {
        "id": "9v7feX-f2ION"
      },
      "source": [
        "train_df_sliced = list(set(train_df_png_images).intersection(set(train_df_images)))\n",
        "train_df_sliced = pd.Series(train_df_sliced).apply(lambda x: os.path.join(\"./images/\", x)).values\n",
        "train_df = train_df[train_df.png_filepath.isin(train_df_sliced)].reset_index(drop=True)\n",
        "train_df.png_filepath = train_df.png_filepath.apply(lambda x: x.replace(\"_\", \"/\").replace(\"images\", \"rsna-miccai-png/train\"))\n",
        "\n",
        "# This part is for when the PatientIDs are turned into ints (for some weird reason; doing this again).\n",
        "patientids = [x.split(\"/\")[-3] for x in train_df.dicom_filepath.values]\n",
        "train_df.PatientID = patientids"
      ],
      "execution_count": 45,
      "outputs": []
    },
    {
      "cell_type": "code",
      "metadata": {
        "colab": {
          "base_uri": "https://localhost:8080/",
          "height": 374
        },
        "id": "QGG9Y-wy2Pvt",
        "outputId": "eb61c7de-b16b-4b9e-bfb2-b388fbfc19b0"
      },
      "source": [
        "train_df.head()"
      ],
      "execution_count": 46,
      "outputs": [
        {
          "output_type": "execute_result",
          "data": {
            "text/html": [
              "<div>\n",
              "<style scoped>\n",
              "    .dataframe tbody tr th:only-of-type {\n",
              "        vertical-align: middle;\n",
              "    }\n",
              "\n",
              "    .dataframe tbody tr th {\n",
              "        vertical-align: top;\n",
              "    }\n",
              "\n",
              "    .dataframe thead th {\n",
              "        text-align: right;\n",
              "    }\n",
              "</style>\n",
              "<table border=\"1\" class=\"dataframe\">\n",
              "  <thead>\n",
              "    <tr style=\"text-align: right;\">\n",
              "      <th></th>\n",
              "      <th>dicom_filepath</th>\n",
              "      <th>png_filepath</th>\n",
              "      <th>PatientID</th>\n",
              "      <th>SeriesDescription</th>\n",
              "      <th>ImageID</th>\n",
              "      <th>StudyInstanceUID</th>\n",
              "      <th>SeriesInstanceUID</th>\n",
              "      <th>MGMT_value</th>\n",
              "    </tr>\n",
              "  </thead>\n",
              "  <tbody>\n",
              "    <tr>\n",
              "      <th>0</th>\n",
              "      <td>../input/rsna-miccai-brain-tumor-radiogenomic-...</td>\n",
              "      <td>./rsna-miccai-png/train/00688/T2w/Image-273.png</td>\n",
              "      <td>00688</td>\n",
              "      <td>T2w</td>\n",
              "      <td>Image-273</td>\n",
              "      <td>1.2.826.0.1.3680043.8.498.11655577270489271674...</td>\n",
              "      <td>1.2.826.0.1.3680043.8.498.75434499750167731864...</td>\n",
              "      <td>0</td>\n",
              "    </tr>\n",
              "    <tr>\n",
              "      <th>1</th>\n",
              "      <td>../input/rsna-miccai-brain-tumor-radiogenomic-...</td>\n",
              "      <td>./rsna-miccai-png/train/00688/T2w/Image-245.png</td>\n",
              "      <td>00688</td>\n",
              "      <td>T2w</td>\n",
              "      <td>Image-245</td>\n",
              "      <td>1.2.826.0.1.3680043.8.498.11655577270489271674...</td>\n",
              "      <td>1.2.826.0.1.3680043.8.498.75434499750167731864...</td>\n",
              "      <td>0</td>\n",
              "    </tr>\n",
              "    <tr>\n",
              "      <th>2</th>\n",
              "      <td>../input/rsna-miccai-brain-tumor-radiogenomic-...</td>\n",
              "      <td>./rsna-miccai-png/train/00688/T2w/Image-130.png</td>\n",
              "      <td>00688</td>\n",
              "      <td>T2w</td>\n",
              "      <td>Image-130</td>\n",
              "      <td>1.2.826.0.1.3680043.8.498.11655577270489271674...</td>\n",
              "      <td>1.2.826.0.1.3680043.8.498.75434499750167731864...</td>\n",
              "      <td>0</td>\n",
              "    </tr>\n",
              "    <tr>\n",
              "      <th>3</th>\n",
              "      <td>../input/rsna-miccai-brain-tumor-radiogenomic-...</td>\n",
              "      <td>./rsna-miccai-png/train/00688/T2w/Image-98.png</td>\n",
              "      <td>00688</td>\n",
              "      <td>T2w</td>\n",
              "      <td>Image-98</td>\n",
              "      <td>1.2.826.0.1.3680043.8.498.11655577270489271674...</td>\n",
              "      <td>1.2.826.0.1.3680043.8.498.75434499750167731864...</td>\n",
              "      <td>0</td>\n",
              "    </tr>\n",
              "    <tr>\n",
              "      <th>4</th>\n",
              "      <td>../input/rsna-miccai-brain-tumor-radiogenomic-...</td>\n",
              "      <td>./rsna-miccai-png/train/00688/T2w/Image-247.png</td>\n",
              "      <td>00688</td>\n",
              "      <td>T2w</td>\n",
              "      <td>Image-247</td>\n",
              "      <td>1.2.826.0.1.3680043.8.498.11655577270489271674...</td>\n",
              "      <td>1.2.826.0.1.3680043.8.498.75434499750167731864...</td>\n",
              "      <td>0</td>\n",
              "    </tr>\n",
              "  </tbody>\n",
              "</table>\n",
              "</div>"
            ],
            "text/plain": [
              "                                      dicom_filepath  ... MGMT_value\n",
              "0  ../input/rsna-miccai-brain-tumor-radiogenomic-...  ...          0\n",
              "1  ../input/rsna-miccai-brain-tumor-radiogenomic-...  ...          0\n",
              "2  ../input/rsna-miccai-brain-tumor-radiogenomic-...  ...          0\n",
              "3  ../input/rsna-miccai-brain-tumor-radiogenomic-...  ...          0\n",
              "4  ../input/rsna-miccai-brain-tumor-radiogenomic-...  ...          0\n",
              "\n",
              "[5 rows x 8 columns]"
            ]
          },
          "metadata": {},
          "execution_count": 46
        }
      ]
    },
    {
      "cell_type": "markdown",
      "metadata": {
        "id": "nLLJX_p07x8E"
      },
      "source": [
        "# Hyperparameters"
      ]
    },
    {
      "cell_type": "code",
      "metadata": {
        "id": "HQd_pfwG7wm9"
      },
      "source": [
        "class Config:\n",
        "  n_splits = 5\n",
        "\n",
        "  seed_everything()"
      ],
      "execution_count": 47,
      "outputs": []
    },
    {
      "cell_type": "code",
      "metadata": {
        "id": "93IA7jE48aN1"
      },
      "source": [
        "cfg = Config()"
      ],
      "execution_count": 48,
      "outputs": []
    },
    {
      "cell_type": "markdown",
      "metadata": {
        "id": "AmHKZm-62qrO"
      },
      "source": [
        "# Making KFold Training DataFrame"
      ]
    },
    {
      "cell_type": "code",
      "metadata": {
        "id": "rfi2z7fq2Qpl"
      },
      "source": [
        "group_kfold = GroupKFold(n_splits=cfg.n_splits)\n",
        "\n",
        "# GroupKFold-PatientID. \n",
        "for fold, train_val_idx in enumerate(group_kfold.split(train_df, groups=getattr(train_df, \"PatientID\"))):\n",
        "  train_idx, val_idx = train_val_idx[0], train_val_idx[1]\n",
        "  train_df.loc[val_idx, 'fold_gkf_patientid'] = fold\n",
        "\n",
        "# GroupKFold-png_filepath.\n",
        "for fold, train_val_idx in enumerate(group_kfold.split(train_df, groups=getattr(train_df, \"png_filepath\"))):\n",
        "  train_idx, val_idx = train_val_idx[0], train_val_idx[1]\n",
        "  train_df.loc[val_idx, 'fold_gkf_png_filepath'] = fold\n",
        "\n",
        "strat_kfold = StratifiedKFold(n_splits=cfg.n_splits)\n",
        "\n",
        "# StratifiedKFold-PatientID. \n",
        "for fold, train_val_idx in enumerate(strat_kfold.split(train_df, getattr(train_df, \"PatientID\"))):\n",
        "  train_idx, val_idx = train_val_idx[0], train_val_idx[1]\n",
        "  train_df.loc[val_idx, 'fold_skf_patientid'] = fold\n",
        "\n",
        "# StratifiedKFold-SeriesDescription. \n",
        "for fold, train_val_idx in enumerate(strat_kfold.split(train_df, getattr(train_df, \"SeriesDescription\"))):\n",
        "  train_idx, val_idx = train_val_idx[0], train_val_idx[1]\n",
        "  train_df.loc[val_idx, 'fold_skf_seriesdescription'] = fold\n",
        "\n",
        "# StratifiedKFold-MGMT_value. \n",
        "for fold, train_val_idx in enumerate(strat_kfold.split(train_df, getattr(train_df, \"MGMT_value\"))):\n",
        "  train_idx, val_idx = train_val_idx[0], train_val_idx[1]\n",
        "  train_df.loc[val_idx, 'fold_skf_MGMT_value'] = fold"
      ],
      "execution_count": 52,
      "outputs": []
    },
    {
      "cell_type": "code",
      "metadata": {
        "colab": {
          "base_uri": "https://localhost:8080/",
          "height": 479
        },
        "id": "-1diHV3y8rhr",
        "outputId": "fbb82a53-d861-4d0b-b04b-28fb3cd39b2d"
      },
      "source": [
        "train_df.head()"
      ],
      "execution_count": 53,
      "outputs": [
        {
          "output_type": "execute_result",
          "data": {
            "text/html": [
              "<div>\n",
              "<style scoped>\n",
              "    .dataframe tbody tr th:only-of-type {\n",
              "        vertical-align: middle;\n",
              "    }\n",
              "\n",
              "    .dataframe tbody tr th {\n",
              "        vertical-align: top;\n",
              "    }\n",
              "\n",
              "    .dataframe thead th {\n",
              "        text-align: right;\n",
              "    }\n",
              "</style>\n",
              "<table border=\"1\" class=\"dataframe\">\n",
              "  <thead>\n",
              "    <tr style=\"text-align: right;\">\n",
              "      <th></th>\n",
              "      <th>dicom_filepath</th>\n",
              "      <th>png_filepath</th>\n",
              "      <th>PatientID</th>\n",
              "      <th>SeriesDescription</th>\n",
              "      <th>ImageID</th>\n",
              "      <th>StudyInstanceUID</th>\n",
              "      <th>SeriesInstanceUID</th>\n",
              "      <th>MGMT_value</th>\n",
              "      <th>fold_gkf_patientid</th>\n",
              "      <th>fold_skf_patientid</th>\n",
              "      <th>fold_skf_seriesdescription</th>\n",
              "      <th>fold_skf_MGMT_value</th>\n",
              "      <th>fold_gkf_png_filepath</th>\n",
              "    </tr>\n",
              "  </thead>\n",
              "  <tbody>\n",
              "    <tr>\n",
              "      <th>0</th>\n",
              "      <td>../input/rsna-miccai-brain-tumor-radiogenomic-...</td>\n",
              "      <td>./rsna-miccai-png/train/00688/T2w/Image-273.png</td>\n",
              "      <td>00688</td>\n",
              "      <td>T2w</td>\n",
              "      <td>Image-273</td>\n",
              "      <td>1.2.826.0.1.3680043.8.498.11655577270489271674...</td>\n",
              "      <td>1.2.826.0.1.3680043.8.498.75434499750167731864...</td>\n",
              "      <td>0</td>\n",
              "      <td>0.0</td>\n",
              "      <td>0.0</td>\n",
              "      <td>0.0</td>\n",
              "      <td>0.0</td>\n",
              "      <td>1.0</td>\n",
              "    </tr>\n",
              "    <tr>\n",
              "      <th>1</th>\n",
              "      <td>../input/rsna-miccai-brain-tumor-radiogenomic-...</td>\n",
              "      <td>./rsna-miccai-png/train/00688/T2w/Image-245.png</td>\n",
              "      <td>00688</td>\n",
              "      <td>T2w</td>\n",
              "      <td>Image-245</td>\n",
              "      <td>1.2.826.0.1.3680043.8.498.11655577270489271674...</td>\n",
              "      <td>1.2.826.0.1.3680043.8.498.75434499750167731864...</td>\n",
              "      <td>0</td>\n",
              "      <td>0.0</td>\n",
              "      <td>0.0</td>\n",
              "      <td>0.0</td>\n",
              "      <td>0.0</td>\n",
              "      <td>3.0</td>\n",
              "    </tr>\n",
              "    <tr>\n",
              "      <th>2</th>\n",
              "      <td>../input/rsna-miccai-brain-tumor-radiogenomic-...</td>\n",
              "      <td>./rsna-miccai-png/train/00688/T2w/Image-130.png</td>\n",
              "      <td>00688</td>\n",
              "      <td>T2w</td>\n",
              "      <td>Image-130</td>\n",
              "      <td>1.2.826.0.1.3680043.8.498.11655577270489271674...</td>\n",
              "      <td>1.2.826.0.1.3680043.8.498.75434499750167731864...</td>\n",
              "      <td>0</td>\n",
              "      <td>0.0</td>\n",
              "      <td>0.0</td>\n",
              "      <td>0.0</td>\n",
              "      <td>0.0</td>\n",
              "      <td>1.0</td>\n",
              "    </tr>\n",
              "    <tr>\n",
              "      <th>3</th>\n",
              "      <td>../input/rsna-miccai-brain-tumor-radiogenomic-...</td>\n",
              "      <td>./rsna-miccai-png/train/00688/T2w/Image-98.png</td>\n",
              "      <td>00688</td>\n",
              "      <td>T2w</td>\n",
              "      <td>Image-98</td>\n",
              "      <td>1.2.826.0.1.3680043.8.498.11655577270489271674...</td>\n",
              "      <td>1.2.826.0.1.3680043.8.498.75434499750167731864...</td>\n",
              "      <td>0</td>\n",
              "      <td>0.0</td>\n",
              "      <td>0.0</td>\n",
              "      <td>0.0</td>\n",
              "      <td>0.0</td>\n",
              "      <td>4.0</td>\n",
              "    </tr>\n",
              "    <tr>\n",
              "      <th>4</th>\n",
              "      <td>../input/rsna-miccai-brain-tumor-radiogenomic-...</td>\n",
              "      <td>./rsna-miccai-png/train/00688/T2w/Image-247.png</td>\n",
              "      <td>00688</td>\n",
              "      <td>T2w</td>\n",
              "      <td>Image-247</td>\n",
              "      <td>1.2.826.0.1.3680043.8.498.11655577270489271674...</td>\n",
              "      <td>1.2.826.0.1.3680043.8.498.75434499750167731864...</td>\n",
              "      <td>0</td>\n",
              "      <td>0.0</td>\n",
              "      <td>0.0</td>\n",
              "      <td>0.0</td>\n",
              "      <td>0.0</td>\n",
              "      <td>4.0</td>\n",
              "    </tr>\n",
              "  </tbody>\n",
              "</table>\n",
              "</div>"
            ],
            "text/plain": [
              "                                      dicom_filepath  ... fold_gkf_png_filepath\n",
              "0  ../input/rsna-miccai-brain-tumor-radiogenomic-...  ...                   1.0\n",
              "1  ../input/rsna-miccai-brain-tumor-radiogenomic-...  ...                   3.0\n",
              "2  ../input/rsna-miccai-brain-tumor-radiogenomic-...  ...                   1.0\n",
              "3  ../input/rsna-miccai-brain-tumor-radiogenomic-...  ...                   4.0\n",
              "4  ../input/rsna-miccai-brain-tumor-radiogenomic-...  ...                   4.0\n",
              "\n",
              "[5 rows x 13 columns]"
            ]
          },
          "metadata": {},
          "execution_count": 53
        }
      ]
    },
    {
      "cell_type": "code",
      "metadata": {
        "colab": {
          "base_uri": "https://localhost:8080/",
          "height": 646
        },
        "id": "Bk_TypF796OT",
        "outputId": "3f3101c5-aa59-4b6d-af74-efa2aa677b6f"
      },
      "source": [
        "display(train_df.fold_gkf_patientid.value_counts()), \n",
        "display(train_df.fold_skf_patientid.value_counts()), \n",
        "display(train_df.fold_skf_seriesdescription.value_counts()), \n",
        "display(train_df.fold_skf_MGMT_value.value_counts()), \n",
        "display(train_df.fold_gkf_png_filepath.value_counts()), "
      ],
      "execution_count": 55,
      "outputs": [
        {
          "output_type": "display_data",
          "data": {
            "text/plain": [
              "1.0    50777\n",
              "2.0    50777\n",
              "3.0    50774\n",
              "4.0    50773\n",
              "0.0    50755\n",
              "Name: fold_gkf_patientid, dtype: int64"
            ]
          },
          "metadata": {}
        },
        {
          "output_type": "display_data",
          "data": {
            "text/plain": [
              "0.0    50772\n",
              "1.0    50771\n",
              "4.0    50771\n",
              "3.0    50771\n",
              "2.0    50771\n",
              "Name: fold_skf_patientid, dtype: int64"
            ]
          },
          "metadata": {}
        },
        {
          "output_type": "display_data",
          "data": {
            "text/plain": [
              "0.0    50772\n",
              "1.0    50771\n",
              "4.0    50771\n",
              "3.0    50771\n",
              "2.0    50771\n",
              "Name: fold_skf_seriesdescription, dtype: int64"
            ]
          },
          "metadata": {}
        },
        {
          "output_type": "display_data",
          "data": {
            "text/plain": [
              "0.0    50772\n",
              "1.0    50771\n",
              "4.0    50771\n",
              "3.0    50771\n",
              "2.0    50771\n",
              "Name: fold_skf_MGMT_value, dtype: int64"
            ]
          },
          "metadata": {}
        },
        {
          "output_type": "display_data",
          "data": {
            "text/plain": [
              "0.0    50772\n",
              "1.0    50771\n",
              "4.0    50771\n",
              "3.0    50771\n",
              "2.0    50771\n",
              "Name: fold_skf_MGMT_value, dtype: int64"
            ]
          },
          "metadata": {}
        },
        {
          "output_type": "display_data",
          "data": {
            "text/plain": [
              "0.0    50772\n",
              "4.0    50771\n",
              "3.0    50771\n",
              "2.0    50771\n",
              "1.0    50771\n",
              "Name: fold_gkf_png_filepath, dtype: int64"
            ]
          },
          "metadata": {}
        },
        {
          "output_type": "execute_result",
          "data": {
            "text/plain": [
              "(None, None, None)"
            ]
          },
          "metadata": {},
          "execution_count": 55
        }
      ]
    },
    {
      "cell_type": "code",
      "metadata": {
        "id": "q-Mfiw9nVjBt"
      },
      "source": [
        "train_kfold = train_df\n",
        "train_kfold.to_csv(r\"./train_kfold.csv\", index=False)"
      ],
      "execution_count": 56,
      "outputs": []
    },
    {
      "cell_type": "code",
      "metadata": {
        "colab": {
          "base_uri": "https://localhost:8080/",
          "height": 34
        },
        "id": "gwgjxO_aYPxt",
        "outputId": "1761a8b2-0e47-4c2f-d02b-f23ca9e08c58"
      },
      "source": [
        "from IPython.display import FileLink\n",
        "FileLink(r\"train_kfold.csv\")"
      ],
      "execution_count": 58,
      "outputs": [
        {
          "output_type": "execute_result",
          "data": {
            "text/html": [
              "<a href='train_kfold.csv' target='_blank'>train_kfold.csv</a><br>"
            ],
            "text/plain": [
              "/content/train_kfold.csv"
            ]
          },
          "metadata": {},
          "execution_count": 58
        }
      ]
    },
    {
      "cell_type": "code",
      "metadata": {
        "id": "0f7khqTxYTSk"
      },
      "source": [
        ""
      ],
      "execution_count": null,
      "outputs": []
    }
  ]
}